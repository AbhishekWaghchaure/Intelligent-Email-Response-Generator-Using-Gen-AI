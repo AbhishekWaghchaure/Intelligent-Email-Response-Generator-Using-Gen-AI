{
 "cells": [
  {
   "cell_type": "code",
   "execution_count": 2,
   "metadata": {},
   "outputs": [
    {
     "name": "stderr",
     "output_type": "stream",
     "text": [
      "/opt/anaconda3/envs/stable_env_nlp/lib/python3.10/site-packages/torchvision/datapoints/__init__.py:12: UserWarning: The torchvision.datapoints and torchvision.transforms.v2 namespaces are still Beta. While we do not expect major breaking changes, some APIs may still change according to user feedback. Please submit any feedback you may have in this issue: https://github.com/pytorch/vision/issues/6753, and you can also check out https://github.com/pytorch/vision/issues/7319 to learn more about the APIs that we suspect might involve future changes. You can silence this warning by calling torchvision.disable_beta_transforms_warning().\n",
      "  warnings.warn(_BETA_TRANSFORMS_WARNING)\n",
      "/opt/anaconda3/envs/stable_env_nlp/lib/python3.10/site-packages/torchvision/transforms/v2/__init__.py:54: UserWarning: The torchvision.datapoints and torchvision.transforms.v2 namespaces are still Beta. While we do not expect major breaking changes, some APIs may still change according to user feedback. Please submit any feedback you may have in this issue: https://github.com/pytorch/vision/issues/6753, and you can also check out https://github.com/pytorch/vision/issues/7319 to learn more about the APIs that we suspect might involve future changes. You can silence this warning by calling torchvision.disable_beta_transforms_warning().\n",
      "  warnings.warn(_BETA_TRANSFORMS_WARNING)\n"
     ]
    }
   ],
   "source": [
    "import pandas as pd\n",
    "from sklearn.model_selection import train_test_split\n",
    "from transformers import T5Tokenizer\n",
    "from datasets import load_dataset\n",
    "from transformers import T5ForConditionalGeneration, Trainer\n",
    "from transformers import TrainingArguments\n",
    "import evaluate\n"
   ]
  },
  {
   "cell_type": "code",
   "execution_count": 3,
   "metadata": {},
   "outputs": [],
   "source": [
    "df = pd.read_csv(\"/Users/abhishekwaghchaure/Desktop/Datasets/email/preprocessed_emails.csv\")\n",
    "\n",
    "df = df.dropna(subset=['processed_body', 'subject', 'response'])"
   ]
  },
  {
   "cell_type": "code",
   "execution_count": 4,
   "metadata": {},
   "outputs": [
    {
     "data": {
      "text/html": [
       "<div>\n",
       "<style scoped>\n",
       "    .dataframe tbody tr th:only-of-type {\n",
       "        vertical-align: middle;\n",
       "    }\n",
       "\n",
       "    .dataframe tbody tr th {\n",
       "        vertical-align: top;\n",
       "    }\n",
       "\n",
       "    .dataframe thead th {\n",
       "        text-align: right;\n",
       "    }\n",
       "</style>\n",
       "<table border=\"1\" class=\"dataframe\">\n",
       "  <thead>\n",
       "    <tr style=\"text-align: right;\">\n",
       "      <th></th>\n",
       "      <th>file</th>\n",
       "      <th>headers</th>\n",
       "      <th>body</th>\n",
       "      <th>subject</th>\n",
       "      <th>from</th>\n",
       "      <th>to</th>\n",
       "      <th>clean_body</th>\n",
       "      <th>processed_body</th>\n",
       "      <th>date</th>\n",
       "      <th>response</th>\n",
       "    </tr>\n",
       "  </thead>\n",
       "  <tbody>\n",
       "    <tr>\n",
       "      <th>0</th>\n",
       "      <td>semperger-c/deleted_items/46.</td>\n",
       "      <td>Message-ID: &lt;30978077.1075841544706.JavaMail.e...</td>\n",
       "      <td>Time is running very short.  Is your company p...</td>\n",
       "      <td>!!!   OATI Etag 1.7 Minimum Requirements   !!!</td>\n",
       "      <td>frank.billington@oatiinc.com</td>\n",
       "      <td>cara.semperger@enron.com</td>\n",
       "      <td>Time is running very short Is your company pre...</td>\n",
       "      <td>[['Time', 'running', 'short', 'Is', 'company',...</td>\n",
       "      <td>2002-02-01 11:25:00-08:00</td>\n",
       "      <td>[['Time', 'running', 'short', 'Is', 'company',...</td>\n",
       "    </tr>\n",
       "    <tr>\n",
       "      <th>1</th>\n",
       "      <td>king-j/deleted_items/19.</td>\n",
       "      <td>Message-ID: &lt;15244269.1075840797931.JavaMail.e...</td>\n",
       "      <td>Time is running very short.  Is your company p...</td>\n",
       "      <td>!!!   OATI Etag 1.7 Minimum Requirements   !!!</td>\n",
       "      <td>frank.billington@oatiinc.com</td>\n",
       "      <td>jeff.king@enron.com</td>\n",
       "      <td>Time is running very short Is your company pre...</td>\n",
       "      <td>[['Time', 'running', 'short', 'Is', 'company',...</td>\n",
       "      <td>2002-02-01 11:28:51-08:00</td>\n",
       "      <td>[['Time', 'running', 'short', 'Is', 'company',...</td>\n",
       "    </tr>\n",
       "    <tr>\n",
       "      <th>2</th>\n",
       "      <td>platter-p/inbox/43.</td>\n",
       "      <td>Message-ID: &lt;394365.1075841413683.JavaMail.eva...</td>\n",
       "      <td>Time is running very short.  Is your company p...</td>\n",
       "      <td>!!!   OATI Etag 1.7 Minimum Requirements   !!!</td>\n",
       "      <td>frank.billington@oatiinc.com</td>\n",
       "      <td>phillip.platter@enron.com</td>\n",
       "      <td>Time is running very short Is your company pre...</td>\n",
       "      <td>[['Time', 'running', 'short', 'Is', 'company',...</td>\n",
       "      <td>2002-02-01 11:32:28-08:00</td>\n",
       "      <td>[['Time', 'running', 'short', 'Is', 'company',...</td>\n",
       "    </tr>\n",
       "    <tr>\n",
       "      <th>3</th>\n",
       "      <td>salisbury-h/inbox/196.</td>\n",
       "      <td>Message-ID: &lt;19201127.1075841505530.JavaMail.e...</td>\n",
       "      <td>Immediately delete and DO NOT OPEN email \\n \\n...</td>\n",
       "      <td>!!!!!!!!!!!GONE.SCR VIRUS Warning!!!!!!!!!!!11</td>\n",
       "      <td>david.steiner@enron.com</td>\n",
       "      <td>center.dl-portland@enron.com</td>\n",
       "      <td>Immediately delete and DO NOT OPEN email From ...</td>\n",
       "      <td>[['Immediately', 'delete', 'DO', 'NOT', 'OPEN'...</td>\n",
       "      <td>2001-12-04 11:49:46-08:00</td>\n",
       "      <td>[['Immediately', 'delete', 'DO', 'NOT', 'OPEN'...</td>\n",
       "    </tr>\n",
       "    <tr>\n",
       "      <th>4</th>\n",
       "      <td>kaminski-v/all_documents/1055.</td>\n",
       "      <td>Message-ID: &lt;8575423.1075856206811.JavaMail.ev...</td>\n",
       "      <td>HENWOOD ANNOUNCES A MAJOR NEW RELEASE AND FUNC...</td>\n",
       "      <td>\" Henwood's Rationalizing Midwest Power Market...</td>\n",
       "      <td>cfarrell@hesinet.com</td>\n",
       "      <td>vkamins@ect.enron.com</td>\n",
       "      <td>HENWOOD ANNOUNCES A MAJOR NEW RELEASE AND FUNC...</td>\n",
       "      <td>[['HENWOOD', 'ANNOUNCES', 'A', 'MAJOR', 'NEW',...</td>\n",
       "      <td>2001-03-19 03:17:00-08:00</td>\n",
       "      <td>[['HENWOOD', 'ANNOUNCES', 'A', 'MAJOR', 'NEW',...</td>\n",
       "    </tr>\n",
       "  </tbody>\n",
       "</table>\n",
       "</div>"
      ],
      "text/plain": [
       "                             file  \\\n",
       "0   semperger-c/deleted_items/46.   \n",
       "1        king-j/deleted_items/19.   \n",
       "2             platter-p/inbox/43.   \n",
       "3          salisbury-h/inbox/196.   \n",
       "4  kaminski-v/all_documents/1055.   \n",
       "\n",
       "                                             headers  \\\n",
       "0  Message-ID: <30978077.1075841544706.JavaMail.e...   \n",
       "1  Message-ID: <15244269.1075840797931.JavaMail.e...   \n",
       "2  Message-ID: <394365.1075841413683.JavaMail.eva...   \n",
       "3  Message-ID: <19201127.1075841505530.JavaMail.e...   \n",
       "4  Message-ID: <8575423.1075856206811.JavaMail.ev...   \n",
       "\n",
       "                                                body  \\\n",
       "0  Time is running very short.  Is your company p...   \n",
       "1  Time is running very short.  Is your company p...   \n",
       "2  Time is running very short.  Is your company p...   \n",
       "3  Immediately delete and DO NOT OPEN email \\n \\n...   \n",
       "4  HENWOOD ANNOUNCES A MAJOR NEW RELEASE AND FUNC...   \n",
       "\n",
       "                                             subject  \\\n",
       "0     !!!   OATI Etag 1.7 Minimum Requirements   !!!   \n",
       "1     !!!   OATI Etag 1.7 Minimum Requirements   !!!   \n",
       "2     !!!   OATI Etag 1.7 Minimum Requirements   !!!   \n",
       "3     !!!!!!!!!!!GONE.SCR VIRUS Warning!!!!!!!!!!!11   \n",
       "4  \" Henwood's Rationalizing Midwest Power Market...   \n",
       "\n",
       "                           from                            to  \\\n",
       "0  frank.billington@oatiinc.com      cara.semperger@enron.com   \n",
       "1  frank.billington@oatiinc.com           jeff.king@enron.com   \n",
       "2  frank.billington@oatiinc.com     phillip.platter@enron.com   \n",
       "3       david.steiner@enron.com  center.dl-portland@enron.com   \n",
       "4          cfarrell@hesinet.com         vkamins@ect.enron.com   \n",
       "\n",
       "                                          clean_body  \\\n",
       "0  Time is running very short Is your company pre...   \n",
       "1  Time is running very short Is your company pre...   \n",
       "2  Time is running very short Is your company pre...   \n",
       "3  Immediately delete and DO NOT OPEN email From ...   \n",
       "4  HENWOOD ANNOUNCES A MAJOR NEW RELEASE AND FUNC...   \n",
       "\n",
       "                                      processed_body  \\\n",
       "0  [['Time', 'running', 'short', 'Is', 'company',...   \n",
       "1  [['Time', 'running', 'short', 'Is', 'company',...   \n",
       "2  [['Time', 'running', 'short', 'Is', 'company',...   \n",
       "3  [['Immediately', 'delete', 'DO', 'NOT', 'OPEN'...   \n",
       "4  [['HENWOOD', 'ANNOUNCES', 'A', 'MAJOR', 'NEW',...   \n",
       "\n",
       "                        date  \\\n",
       "0  2002-02-01 11:25:00-08:00   \n",
       "1  2002-02-01 11:28:51-08:00   \n",
       "2  2002-02-01 11:32:28-08:00   \n",
       "3  2001-12-04 11:49:46-08:00   \n",
       "4  2001-03-19 03:17:00-08:00   \n",
       "\n",
       "                                            response  \n",
       "0  [['Time', 'running', 'short', 'Is', 'company',...  \n",
       "1  [['Time', 'running', 'short', 'Is', 'company',...  \n",
       "2  [['Time', 'running', 'short', 'Is', 'company',...  \n",
       "3  [['Immediately', 'delete', 'DO', 'NOT', 'OPEN'...  \n",
       "4  [['HENWOOD', 'ANNOUNCES', 'A', 'MAJOR', 'NEW',...  "
      ]
     },
     "execution_count": 4,
     "metadata": {},
     "output_type": "execute_result"
    }
   ],
   "source": [
    "df.head()"
   ]
  },
  {
   "cell_type": "code",
   "execution_count": 5,
   "metadata": {},
   "outputs": [],
   "source": [
    "df[\"input_text\"] = \"Email Body: \" + df[\"processed_body\"] + \" Subject: \" + df[\"subject\"]\n",
    "df[\"target_text\"] = df[\"response\"]"
   ]
  },
  {
   "cell_type": "code",
   "execution_count": 6,
   "metadata": {},
   "outputs": [
    {
     "data": {
      "text/plain": [
       "0    Email Body: [['Time', 'running', 'short', 'Is'...\n",
       "1    Email Body: [['Time', 'running', 'short', 'Is'...\n",
       "2    Email Body: [['Time', 'running', 'short', 'Is'...\n",
       "3    Email Body: [['Immediately', 'delete', 'DO', '...\n",
       "4    Email Body: [['HENWOOD', 'ANNOUNCES', 'A', 'MA...\n",
       "Name: input_text, dtype: object"
      ]
     },
     "execution_count": 6,
     "metadata": {},
     "output_type": "execute_result"
    }
   ],
   "source": [
    "df['input_text'].head()"
   ]
  },
  {
   "cell_type": "code",
   "execution_count": 7,
   "metadata": {},
   "outputs": [
    {
     "data": {
      "text/plain": [
       "0    [['Time', 'running', 'short', 'Is', 'company',...\n",
       "1    [['Time', 'running', 'short', 'Is', 'company',...\n",
       "2    [['Time', 'running', 'short', 'Is', 'company',...\n",
       "3    [['Immediately', 'delete', 'DO', 'NOT', 'OPEN'...\n",
       "4    [['HENWOOD', 'ANNOUNCES', 'A', 'MAJOR', 'NEW',...\n",
       "Name: target_text, dtype: object"
      ]
     },
     "execution_count": 7,
     "metadata": {},
     "output_type": "execute_result"
    }
   ],
   "source": [
    "df['target_text'].head()"
   ]
  },
  {
   "cell_type": "code",
   "execution_count": 8,
   "metadata": {},
   "outputs": [],
   "source": [
    "# Split into train and test sets\n",
    "train_df, test_df = train_test_split(df, test_size=0.2, random_state=42)\n",
    "\n",
    "# Save as Hugging Face Dataset format\n",
    "train_df.to_csv(\"/Users/abhishekwaghchaure/Desktop/Datasets/email/train.csv\", index=False)\n",
    "test_df.to_csv(\"/Users/abhishekwaghchaure/Desktop/Datasets/email/test.csv\", index=False)"
   ]
  },
  {
   "cell_type": "code",
   "execution_count": 9,
   "metadata": {},
   "outputs": [
    {
     "data": {
      "application/vnd.jupyter.widget-view+json": {
       "model_id": "273cfa44597b4aa389606a651fa1f7cc",
       "version_major": 2,
       "version_minor": 0
      },
      "text/plain": [
       "Generating train split: 0 examples [00:00, ? examples/s]"
      ]
     },
     "metadata": {},
     "output_type": "display_data"
    },
    {
     "data": {
      "application/vnd.jupyter.widget-view+json": {
       "model_id": "cf0bf493284a4970a35296333c97093a",
       "version_major": 2,
       "version_minor": 0
      },
      "text/plain": [
       "Generating train split: 0 examples [00:00, ? examples/s]"
      ]
     },
     "metadata": {},
     "output_type": "display_data"
    }
   ],
   "source": [
    "train_data = load_dataset(\"csv\", data_files=\"/Users/abhishekwaghchaure/Desktop/Datasets/email/train.csv\")[\"train\"]\n",
    "test_data = load_dataset(\"csv\", data_files=\"/Users/abhishekwaghchaure/Desktop/Datasets/email/test.csv\")[\"train\"]"
   ]
  },
  {
   "cell_type": "code",
   "execution_count": 10,
   "metadata": {},
   "outputs": [
    {
     "name": "stderr",
     "output_type": "stream",
     "text": [
      "You are using the default legacy behaviour of the <class 'transformers.models.t5.tokenization_t5.T5Tokenizer'>. This is expected, and simply means that the `legacy` (previous) behavior will be used so nothing changes for you. If you want to use the new behaviour, set `legacy=False`. This should only be set if you understand what it means, and thoroughly read the reason why this was added as explained in https://github.com/huggingface/transformers/pull/24565\n"
     ]
    }
   ],
   "source": [
    "tokenizer = T5Tokenizer.from_pretrained(\"t5-small\")\n",
    "\n",
    "# Tokenize function\n",
    "def preprocess_function(examples):\n",
    "    inputs = tokenizer(examples[\"input_text\"], max_length=512, truncation=True, padding=\"max_length\")\n",
    "    targets = tokenizer(examples[\"target_text\"], max_length=128, truncation=True, padding=\"max_length\")\n",
    "    inputs[\"labels\"] = targets[\"input_ids\"]\n",
    "    return inputs\n"
   ]
  },
  {
   "cell_type": "code",
   "execution_count": 11,
   "metadata": {},
   "outputs": [
    {
     "data": {
      "text/plain": [
       "Dataset({\n",
       "    features: ['file', 'headers', 'body', 'subject', 'from', 'to', 'clean_body', 'processed_body', 'date', 'response', 'input_text', 'target_text'],\n",
       "    num_rows: 67872\n",
       "})"
      ]
     },
     "execution_count": 11,
     "metadata": {},
     "output_type": "execute_result"
    }
   ],
   "source": [
    "test_data"
   ]
  },
  {
   "cell_type": "code",
   "execution_count": 12,
   "metadata": {},
   "outputs": [
    {
     "data": {
      "application/vnd.jupyter.widget-view+json": {
       "model_id": "3d81f9e4da144e2890f79fba888e34ec",
       "version_major": 2,
       "version_minor": 0
      },
      "text/plain": [
       "Map:   0%|          | 0/271484 [00:00<?, ? examples/s]"
      ]
     },
     "metadata": {},
     "output_type": "display_data"
    },
    {
     "data": {
      "application/vnd.jupyter.widget-view+json": {
       "model_id": "db50f510debb4cc4b954f071609676f2",
       "version_major": 2,
       "version_minor": 0
      },
      "text/plain": [
       "Map:   0%|          | 0/67872 [00:00<?, ? examples/s]"
      ]
     },
     "metadata": {},
     "output_type": "display_data"
    }
   ],
   "source": [
    "# Apply tokenization\n",
    "train_data = train_data.map(preprocess_function, batched=True)\n",
    "test_data = test_data.map(preprocess_function, batched=True)\n",
    "\n",
    "# Remove unused columns\n",
    "train_data = train_data.remove_columns([\"input_text\", \"target_text\"])\n",
    "test_data = test_data.remove_columns([\"input_text\", \"target_text\"])\n",
    "\n",
    "train_data.set_format(\"torch\")\n",
    "test_data.set_format(\"torch\")"
   ]
  },
  {
   "cell_type": "code",
   "execution_count": 13,
   "metadata": {},
   "outputs": [],
   "source": [
    "# Load metrics\n",
    "rouge = evaluate.load(\"rouge\")\n",
    "\n",
    "# Define custom evaluation function\n",
    "def compute_metrics(eval_pred):\n",
    "    logits, labels = eval_pred\n",
    "    predictions = logits.argmax(axis=-1)\n",
    "\n",
    "    # Decode predictions and labels\n",
    "    decoded_preds = tokenizer.batch_decode(predictions, skip_special_tokens=True)\n",
    "    decoded_labels = tokenizer.batch_decode(labels, skip_special_tokens=True)\n",
    "\n",
    "    # Calculate ROUGE scores\n",
    "    result = rouge.compute(predictions=decoded_preds, references=decoded_labels)\n",
    "    return {\n",
    "        \"rouge1\": result[\"rouge1\"].mid.fmeasure,\n",
    "        \"rouge2\": result[\"rouge2\"].mid.fmeasure,\n",
    "        \"rougeL\": result[\"rougeL\"].mid.fmeasure,\n",
    "    }\n"
   ]
  },
  {
   "cell_type": "code",
   "execution_count": 14,
   "metadata": {},
   "outputs": [
    {
     "name": "stderr",
     "output_type": "stream",
     "text": [
      "/opt/anaconda3/envs/stable_env_nlp/lib/python3.10/site-packages/transformers/training_args.py:1575: FutureWarning: `evaluation_strategy` is deprecated and will be removed in version 4.46 of 🤗 Transformers. Use `eval_strategy` instead\n",
      "  warnings.warn(\n"
     ]
    }
   ],
   "source": [
    "training_args = TrainingArguments(\n",
    "    output_dir=\"./results\",\n",
    "    evaluation_strategy=\"epoch\",\n",
    "    learning_rate=5e-5,\n",
    "    per_device_train_batch_size=8,\n",
    "    num_train_epochs=3,\n",
    "    save_steps=10_000,\n",
    "    save_total_limit=2,\n",
    "    logging_dir=\"./logs\"\n",
    ")"
   ]
  },
  {
   "cell_type": "code",
   "execution_count": 15,
   "metadata": {},
   "outputs": [
    {
     "name": "stderr",
     "output_type": "stream",
     "text": [
      "/var/folders/vt/hgv58_ws0rjfsg_1d8fcxgww0000gn/T/ipykernel_25384/2345141181.py:5: FutureWarning: `tokenizer` is deprecated and will be removed in version 5.0.0 for `Trainer.__init__`. Use `processing_class` instead.\n",
      "  trainer = Trainer(\n"
     ]
    },
    {
     "ename": "",
     "evalue": "",
     "output_type": "error",
     "traceback": [
      "\u001b[1;31mThe Kernel crashed while executing code in the current cell or a previous cell. \n",
      "\u001b[1;31mPlease review the code in the cell(s) to identify a possible cause of the failure. \n",
      "\u001b[1;31mClick <a href='https://aka.ms/vscodeJupyterKernelCrash'>here</a> for more info. \n",
      "\u001b[1;31mView Jupyter <a href='command:jupyter.viewOutput'>log</a> for further details."
     ]
    }
   ],
   "source": [
    "# Load model\n",
    "model = T5ForConditionalGeneration.from_pretrained(\"t5-small\")\n",
    "\n",
    "# Initialize Trainer\n",
    "trainer = Trainer(\n",
    "    model=model,\n",
    "    args=training_args,\n",
    "    train_dataset=train_data,\n",
    "    eval_dataset=test_data,\n",
    "    tokenizer=tokenizer,\n",
    "    compute_metrics=compute_metrics  # Use the custom evaluation function\n",
    ")"
   ]
  },
  {
   "cell_type": "code",
   "execution_count": null,
   "metadata": {},
   "outputs": [
    {
     "data": {
      "application/vnd.jupyter.widget-view+json": {
       "model_id": "96fa3be48219403e9f933de69f46dfca",
       "version_major": 2,
       "version_minor": 0
      },
      "text/plain": [
       "  0%|          | 0/101808 [00:00<?, ?it/s]"
      ]
     },
     "metadata": {},
     "output_type": "display_data"
    },
    {
     "name": "stderr",
     "output_type": "stream",
     "text": [
      "Passing a tuple of `past_key_values` is deprecated and will be removed in Transformers v4.48.0. You should pass an instance of `EncoderDecoderCache` instead, e.g. `past_key_values=EncoderDecoderCache.from_legacy_cache(past_key_values)`.\n"
     ]
    }
   ],
   "source": [
    "trainer.train()"
   ]
  },
  {
   "cell_type": "code",
   "execution_count": null,
   "metadata": {},
   "outputs": [],
   "source": [
    "model.save_pretrained(\"./email_response_model\")\n",
    "tokenizer.save_pretrained(\"./email_response_model\")\n",
    "print(\"Model and tokenizer saved successfully!\")"
   ]
  },
  {
   "cell_type": "markdown",
   "metadata": {},
   "source": [
    "## Generate Response"
   ]
  },
  {
   "cell_type": "code",
   "execution_count": null,
   "metadata": {},
   "outputs": [],
   "source": [
    "def generate_response(input_text):\n",
    "    inputs = tokenizer(input_text, return_tensors=\"pt\", truncation=True, padding=\"max_length\", max_length=512)\n",
    "    outputs = model.generate(inputs[\"input_ids\"], max_length=128, num_beams=4, early_stopping=True)\n",
    "    return tokenizer.decode(outputs[0], skip_special_tokens=True)\n",
    "\n",
    "# Test the model\n",
    "test_input = \"Email Body: Let's schedule a meeting. Subject: Meeting Request\"\n",
    "response = generate_response(test_input)\n",
    "print(\"Generated Response:\", response)"
   ]
  }
 ],
 "metadata": {
  "kernelspec": {
   "display_name": "stable_env_nlp",
   "language": "python",
   "name": "python3"
  },
  "language_info": {
   "codemirror_mode": {
    "name": "ipython",
    "version": 3
   },
   "file_extension": ".py",
   "mimetype": "text/x-python",
   "name": "python",
   "nbconvert_exporter": "python",
   "pygments_lexer": "ipython3",
   "version": "3.10.15"
  }
 },
 "nbformat": 4,
 "nbformat_minor": 2
}
