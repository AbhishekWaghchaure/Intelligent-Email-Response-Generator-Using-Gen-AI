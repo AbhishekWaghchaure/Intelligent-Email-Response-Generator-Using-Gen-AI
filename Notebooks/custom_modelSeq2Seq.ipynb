{
 "cells": [
  {
   "cell_type": "code",
   "execution_count": 42,
   "metadata": {},
   "outputs": [],
   "source": [
    "import torch\n",
    "import torch.nn as nn\n",
    "from torch.utils.data import DataLoader, Dataset\n",
    "from sklearn.model_selection import train_test_split\n",
    "from transformers import T5Tokenizer\n",
    "import pandas as pd\n",
    "from tqdm import tqdm"
   ]
  },
  {
   "cell_type": "code",
   "execution_count": 29,
   "metadata": {},
   "outputs": [],
   "source": [
    "class EmailDataset(Dataset):\n",
    "    def __init__(self, dataframe, tokenizer, max_len=512):\n",
    "        self.data = dataframe\n",
    "        self.tokenizer = tokenizer\n",
    "        self.max_len = max_len\n",
    "\n",
    "    def __len__(self):\n",
    "        return len(self.data)\n",
    "\n",
    "    def __getitem__(self, index):\n",
    "        row = self.data.iloc[index]\n",
    "        input_text = f\"Email Body: {row['processed_body']} Subject: {row['subject']}\"\n",
    "        target_text = row['response']\n",
    "\n",
    "        # Tokenize input and target\n",
    "        inputs = self.tokenizer(\n",
    "            input_text, max_length=self.max_len, truncation=True, padding=\"max_length\", return_tensors=\"pt\"\n",
    "        )\n",
    "        targets = self.tokenizer(\n",
    "            target_text, max_length=self.max_len, truncation=True, padding=\"max_length\", return_tensors=\"pt\"\n",
    "        )\n",
    "\n",
    "        return {\n",
    "            \"input_ids\": inputs[\"input_ids\"].squeeze(0),\n",
    "            \"attention_mask\": inputs[\"attention_mask\"].squeeze(0),\n",
    "            \"labels\": targets[\"input_ids\"].squeeze(0),\n",
    "        }\n"
   ]
  },
  {
   "cell_type": "code",
   "execution_count": 30,
   "metadata": {},
   "outputs": [],
   "source": [
    "df = pd.read_csv(\"/Users/abhishekwaghchaure/Desktop/Datasets/email/preprocessed_emails.csv\")\n",
    "df = df.dropna(subset=['processed_body', 'subject', 'response'])"
   ]
  },
  {
   "cell_type": "code",
   "execution_count": 31,
   "metadata": {},
   "outputs": [],
   "source": [
    "train_df, test_df = train_test_split(df, test_size=0.2, random_state=42)\n",
    "tokenizer = T5Tokenizer.from_pretrained(\"t5-small\")\n",
    "\n"
   ]
  },
  {
   "cell_type": "code",
   "execution_count": 32,
   "metadata": {},
   "outputs": [],
   "source": [
    "train_dataset = EmailDataset(train_df, tokenizer)\n",
    "test_dataset = EmailDataset(test_df, tokenizer)\n",
    "\n",
    "train_loader = DataLoader(train_dataset, batch_size=8, shuffle=True)\n",
    "test_loader = DataLoader(test_dataset, batch_size=8)"
   ]
  },
  {
   "cell_type": "code",
   "execution_count": 33,
   "metadata": {},
   "outputs": [
    {
     "name": "stdout",
     "output_type": "stream",
     "text": [
      "271484\n",
      "67872\n"
     ]
    }
   ],
   "source": [
    "print(len(train_dataset))\n",
    "print(len(test_dataset))"
   ]
  },
  {
   "cell_type": "markdown",
   "metadata": {},
   "source": [
    "## Custom Seq2Seq Encoder Decoder"
   ]
  },
  {
   "cell_type": "code",
   "execution_count": 34,
   "metadata": {},
   "outputs": [],
   "source": [
    "# class EmailResponseGenerator(nn.Module):\n",
    "#     def __init__(self, vocab_size, embedding_dim, hidden_dim, num_layers):\n",
    "#         super(EmailResponseGenerator, self).__init__()\n",
    "#         self.embedding = nn.Embedding(vocab_size, embedding_dim)\n",
    "#         self.encoder = nn.GRU(\n",
    "#             input_size=embedding_dim, hidden_size=hidden_dim, num_layers=num_layers, batch_first=True, bidirectional=True\n",
    "#         )\n",
    "#         self.decoder = nn.GRU(\n",
    "#             input_size=embedding_dim, hidden_size=hidden_dim * 2, num_layers=num_layers, batch_first=True\n",
    "#         )\n",
    "#         self.fc = nn.Linear(hidden_dim * 2, vocab_size)\n",
    "\n",
    "#     # def forward(self, input_ids, attention_mask, labels=None):\n",
    "#     #     embedded_inputs = self.embedding(input_ids)\n",
    "#     #     encoder_outputs, hidden = self.encoder(embedded_inputs)\n",
    "#     #     decoder_inputs = self.embedding(labels) if labels is not None else encoder_outputs[:, 0:1, :]\n",
    "#     #     decoder_outputs, _ = self.decoder(decoder_inputs, hidden)\n",
    "#     #     logits = self.fc(decoder_outputs)\n",
    "#     #     return logits\n",
    "    \n",
    "#         def forward(self, input_ids, attention_mask, labels=None):\n",
    "#             # Embedding Layer\n",
    "#             embedded_inputs = self.embedding(input_ids)  # (batch_size, seq_len, embedding_dim)\n",
    "            \n",
    "#             # Encoder\n",
    "#             encoder_outputs, hidden = self.encoder(embedded_inputs)  # (batch_size, seq_len, hidden_dim * 2)\n",
    "\n",
    "#             # Fix hidden state for decoder (merge bidirectional states)\n",
    "#             if self.encoder.bidirectional:\n",
    "#                 hidden = hidden.view(self.encoder.num_layers, 2, input_ids.size(0), -1)  # (num_layers, 2, batch_size, hidden_dim)\n",
    "#                 hidden = torch.cat((hidden[:, 0], hidden[:, 1]), dim=-1)  # (num_layers, batch_size, hidden_dim)\n",
    "\n",
    "#             # Decoder Input\n",
    "#             decoder_inputs = self.embedding(labels) if labels is not None else encoder_outputs[:, 0:1, :]  # (batch_size, 1, embedding_dim)\n",
    "            \n",
    "#             # Decoder\n",
    "#             decoder_outputs, _ = self.decoder(decoder_inputs, hidden)  # (batch_size, seq_len, hidden_dim * 2)\n",
    "\n",
    "#             # Output Layer\n",
    "#             logits = self.fc(decoder_outputs)  # (batch_size, seq_len, vocab_size)\n",
    "#             return logits"
   ]
  },
  {
   "cell_type": "code",
   "execution_count": 38,
   "metadata": {},
   "outputs": [],
   "source": [
    "class EmailResponseGenerator(nn.Module):\n",
    "    def __init__(self, vocab_size, embedding_dim, hidden_dim, num_layers):\n",
    "        super(EmailResponseGenerator, self).__init__()\n",
    "        self.embedding = nn.Embedding(vocab_size, embedding_dim)\n",
    "        \n",
    "        # Encoder: GRU\n",
    "        self.encoder = nn.GRU(\n",
    "            input_size=embedding_dim,\n",
    "            hidden_size=hidden_dim,\n",
    "            num_layers=num_layers,\n",
    "            batch_first=True,\n",
    "            bidirectional=True\n",
    "        )\n",
    "        \n",
    "        # Decoder: GRU\n",
    "        self.decoder = nn.GRU(\n",
    "            input_size=embedding_dim,\n",
    "            hidden_size=hidden_dim * 2,  # Match bidirectional encoder output\n",
    "            num_layers=num_layers,\n",
    "            batch_first=True\n",
    "        )\n",
    "        \n",
    "        # Fully connected layer\n",
    "        self.fc = nn.Linear(hidden_dim * 2, vocab_size)\n",
    "\n",
    "    def forward(self, input_ids=None, attention_mask=None, labels=None):\n",
    "        # Embedding Layer\n",
    "        embedded_inputs = self.embedding(input_ids)  # (batch_size, seq_len, embedding_dim)\n",
    "        \n",
    "        # Encoder\n",
    "        encoder_outputs, hidden = self.encoder(embedded_inputs)  # (batch_size, seq_len, hidden_dim * 2)\n",
    "\n",
    "        # Fix hidden state for decoder\n",
    "        if self.encoder.bidirectional:\n",
    "            hidden = hidden.view(self.encoder.num_layers, 2, input_ids.size(0), -1)  # (num_layers, 2, batch_size, hidden_dim)\n",
    "            hidden = torch.cat((hidden[:, 0], hidden[:, 1]), dim=-1)  # (num_layers, batch_size, hidden_dim)\n",
    "\n",
    "        # Decoder Input\n",
    "        decoder_inputs = self.embedding(labels) if labels is not None else encoder_outputs[:, 0:1, :]  # (batch_size, 1, embedding_dim)\n",
    "        \n",
    "        # Decoder\n",
    "        decoder_outputs, _ = self.decoder(decoder_inputs, hidden)  # (batch_size, seq_len, hidden_dim * 2)\n",
    "\n",
    "        # Output Layer\n",
    "        logits = self.fc(decoder_outputs)  # (batch_size, seq_len, vocab_size)\n",
    "        return logits"
   ]
  },
  {
   "cell_type": "code",
   "execution_count": 40,
   "metadata": {},
   "outputs": [],
   "source": [
    "vocab_size = tokenizer.vocab_size\n",
    "embedding_dim = 256\n",
    "hidden_dim = 512\n",
    "num_layers = 2\n",
    "epochs = 1\n",
    "model = EmailResponseGenerator(vocab_size, embedding_dim, hidden_dim, num_layers)"
   ]
  },
  {
   "cell_type": "code",
   "execution_count": 39,
   "metadata": {},
   "outputs": [],
   "source": [
    "# device = torch.device(\"cuda\" if torch.cuda.is_available() else \"cpu\")\n",
    "device = 'mps'\n",
    "model.to(device)\n",
    "\n",
    "optimizer = torch.optim.AdamW(model.parameters(), lr=5e-5)\n",
    "criterion = nn.CrossEntropyLoss(ignore_index=tokenizer.pad_token_id)\n"
   ]
  },
  {
   "cell_type": "code",
   "execution_count": 47,
   "metadata": {},
   "outputs": [
    {
     "name": "stderr",
     "output_type": "stream",
     "text": [
      "Epoch 1/1:   0%|\u001b[34m          \u001b[0m| 33/33936 [03:52<66:17:47,  7.04s/it, accuracy=0.0000, loss=10.3588]\n"
     ]
    },
    {
     "ename": "KeyboardInterrupt",
     "evalue": "",
     "output_type": "error",
     "traceback": [
      "\u001b[0;31m---------------------------------------------------------------------------\u001b[0m",
      "\u001b[0;31mKeyboardInterrupt\u001b[0m                         Traceback (most recent call last)",
      "Cell \u001b[0;32mIn[47], line 25\u001b[0m\n\u001b[1;32m     22\u001b[0m target_labels \u001b[38;5;241m=\u001b[39m labels\u001b[38;5;241m.\u001b[39mview(\u001b[38;5;241m-\u001b[39m\u001b[38;5;241m1\u001b[39m)  \u001b[38;5;66;03m# (batch_size * seq_length)\u001b[39;00m\n\u001b[1;32m     24\u001b[0m loss \u001b[38;5;241m=\u001b[39m criterion(logits, target_labels)\n\u001b[0;32m---> 25\u001b[0m \u001b[43mloss\u001b[49m\u001b[38;5;241;43m.\u001b[39;49m\u001b[43mbackward\u001b[49m\u001b[43m(\u001b[49m\u001b[43m)\u001b[49m\n\u001b[1;32m     26\u001b[0m optimizer\u001b[38;5;241m.\u001b[39mstep()\n\u001b[1;32m     28\u001b[0m \u001b[38;5;66;03m# Compute accuracy: Compare predictions to labels\u001b[39;00m\n",
      "File \u001b[0;32m/opt/anaconda3/envs/stable_env_nlp/lib/python3.10/site-packages/torch/_tensor.py:487\u001b[0m, in \u001b[0;36mTensor.backward\u001b[0;34m(self, gradient, retain_graph, create_graph, inputs)\u001b[0m\n\u001b[1;32m    477\u001b[0m \u001b[38;5;28;01mif\u001b[39;00m has_torch_function_unary(\u001b[38;5;28mself\u001b[39m):\n\u001b[1;32m    478\u001b[0m     \u001b[38;5;28;01mreturn\u001b[39;00m handle_torch_function(\n\u001b[1;32m    479\u001b[0m         Tensor\u001b[38;5;241m.\u001b[39mbackward,\n\u001b[1;32m    480\u001b[0m         (\u001b[38;5;28mself\u001b[39m,),\n\u001b[0;32m   (...)\u001b[0m\n\u001b[1;32m    485\u001b[0m         inputs\u001b[38;5;241m=\u001b[39minputs,\n\u001b[1;32m    486\u001b[0m     )\n\u001b[0;32m--> 487\u001b[0m \u001b[43mtorch\u001b[49m\u001b[38;5;241;43m.\u001b[39;49m\u001b[43mautograd\u001b[49m\u001b[38;5;241;43m.\u001b[39;49m\u001b[43mbackward\u001b[49m\u001b[43m(\u001b[49m\n\u001b[1;32m    488\u001b[0m \u001b[43m    \u001b[49m\u001b[38;5;28;43mself\u001b[39;49m\u001b[43m,\u001b[49m\u001b[43m \u001b[49m\u001b[43mgradient\u001b[49m\u001b[43m,\u001b[49m\u001b[43m \u001b[49m\u001b[43mretain_graph\u001b[49m\u001b[43m,\u001b[49m\u001b[43m \u001b[49m\u001b[43mcreate_graph\u001b[49m\u001b[43m,\u001b[49m\u001b[43m \u001b[49m\u001b[43minputs\u001b[49m\u001b[38;5;241;43m=\u001b[39;49m\u001b[43minputs\u001b[49m\n\u001b[1;32m    489\u001b[0m \u001b[43m\u001b[49m\u001b[43m)\u001b[49m\n",
      "File \u001b[0;32m/opt/anaconda3/envs/stable_env_nlp/lib/python3.10/site-packages/torch/autograd/__init__.py:200\u001b[0m, in \u001b[0;36mbackward\u001b[0;34m(tensors, grad_tensors, retain_graph, create_graph, grad_variables, inputs)\u001b[0m\n\u001b[1;32m    195\u001b[0m     retain_graph \u001b[38;5;241m=\u001b[39m create_graph\n\u001b[1;32m    197\u001b[0m \u001b[38;5;66;03m# The reason we repeat same the comment below is that\u001b[39;00m\n\u001b[1;32m    198\u001b[0m \u001b[38;5;66;03m# some Python versions print out the first line of a multi-line function\u001b[39;00m\n\u001b[1;32m    199\u001b[0m \u001b[38;5;66;03m# calls in the traceback and some print out the last line\u001b[39;00m\n\u001b[0;32m--> 200\u001b[0m \u001b[43mVariable\u001b[49m\u001b[38;5;241;43m.\u001b[39;49m\u001b[43m_execution_engine\u001b[49m\u001b[38;5;241;43m.\u001b[39;49m\u001b[43mrun_backward\u001b[49m\u001b[43m(\u001b[49m\u001b[43m  \u001b[49m\u001b[38;5;66;43;03m# Calls into the C++ engine to run the backward pass\u001b[39;49;00m\n\u001b[1;32m    201\u001b[0m \u001b[43m    \u001b[49m\u001b[43mtensors\u001b[49m\u001b[43m,\u001b[49m\u001b[43m \u001b[49m\u001b[43mgrad_tensors_\u001b[49m\u001b[43m,\u001b[49m\u001b[43m \u001b[49m\u001b[43mretain_graph\u001b[49m\u001b[43m,\u001b[49m\u001b[43m \u001b[49m\u001b[43mcreate_graph\u001b[49m\u001b[43m,\u001b[49m\u001b[43m \u001b[49m\u001b[43minputs\u001b[49m\u001b[43m,\u001b[49m\n\u001b[1;32m    202\u001b[0m \u001b[43m    \u001b[49m\u001b[43mallow_unreachable\u001b[49m\u001b[38;5;241;43m=\u001b[39;49m\u001b[38;5;28;43;01mTrue\u001b[39;49;00m\u001b[43m,\u001b[49m\u001b[43m \u001b[49m\u001b[43maccumulate_grad\u001b[49m\u001b[38;5;241;43m=\u001b[39;49m\u001b[38;5;28;43;01mTrue\u001b[39;49;00m\u001b[43m)\u001b[49m\n",
      "\u001b[0;31mKeyboardInterrupt\u001b[0m: "
     ]
    }
   ],
   "source": [
    "for epoch in range(epochs):\n",
    "    model.train()\n",
    "    total_loss = 0\n",
    "    correct = 0  # For accuracy calculation\n",
    "    total_tokens = 0  # Total number of valid tokens (non-padding)\n",
    "\n",
    "    progress_bar = tqdm(train_loader, desc=f\"Epoch {epoch + 1}/{epochs}\", colour=\"blue\")\n",
    "\n",
    "    for batch in progress_bar:\n",
    "        input_ids = batch[\"input_ids\"].to(device)\n",
    "        attention_mask = batch[\"attention_mask\"].to(device) \n",
    "        labels = batch[\"labels\"].to(device)\n",
    "\n",
    "        optimizer.zero_grad()\n",
    "\n",
    "        # Forward pass\n",
    "        outputs = model(input_ids=input_ids, attention_mask=attention_mask, labels=labels)\n",
    "\n",
    "        # Reshape logits and labels for loss computation\n",
    "        logits = outputs.view(-1, vocab_size)  # (batch_size * seq_length, vocab_size)\n",
    "        target_labels = labels.view(-1)  # (batch_size * seq_length)\n",
    "\n",
    "        loss = criterion(logits, target_labels)\n",
    "        loss.backward()\n",
    "        optimizer.step()\n",
    "\n",
    "        # Compute accuracy: Compare predictions to labels\n",
    "        predictions = logits.argmax(dim=-1)  # Predicted token indices\n",
    "        mask = target_labels != tokenizer.pad_token_id  # Ignore padding tokens\n",
    "        correct += (predictions == target_labels)[mask].sum().item()\n",
    "        total_tokens += mask.sum().item()\n",
    "\n",
    "        total_loss += loss.item()\n",
    "\n",
    "        # Update TQDM progress bar\n",
    "        progress_bar.set_postfix(loss=f\"{loss.item():.4f}\", accuracy=f\"{(correct / total_tokens):.4f}\")\n",
    "\n",
    "    # Epoch statistics\n",
    "    accuracy = correct / total_tokens\n",
    "    print(f\"Epoch {epoch + 1}/{epochs}, Loss: {total_loss:.4f}, Accuracy: {accuracy:.4f}\")"
   ]
  },
  {
   "cell_type": "code",
   "execution_count": null,
   "metadata": {},
   "outputs": [],
   "source": [
    "def generate_response(input_text):\n",
    "    model.eval()\n",
    "    inputs = tokenizer(input_text, return_tensors=\"pt\", max_length=512, truncation=True, padding=\"max_length\").to(device)\n",
    "    input_ids = inputs[\"input_ids\"]\n",
    "\n",
    "    # Generate response using the decoder\n",
    "    with torch.no_grad():\n",
    "        embedded_inputs = model.embedding(input_ids)\n",
    "        encoder_outputs, hidden = model.encoder(embedded_inputs)\n",
    "        decoder_input = embedded_inputs[:, 0:1, :]  # Start with the first token\n",
    "        responses = []\n",
    "        for _ in range(100):  # Maximum response length\n",
    "            decoder_outputs, hidden = model.decoder(decoder_input, hidden)\n",
    "            logits = model.fc(decoder_outputs)\n",
    "            predicted_token = torch.argmax(logits, dim=-1)\n",
    "            responses.append(predicted_token)\n",
    "            if predicted_token.item() == tokenizer.eos_token_id:\n",
    "                break\n",
    "            decoder_input = model.embedding(predicted_token)\n",
    "\n",
    "    decoded_response = tokenizer.decode(torch.cat(responses).squeeze(), skip_special_tokens=True)\n",
    "    return decoded_response\n"
   ]
  },
  {
   "cell_type": "code",
   "execution_count": null,
   "metadata": {},
   "outputs": [],
   "source": [
    "test_input = \"Email Body: Let's schedule a meeting. Subject: Meeting Request\"\n",
    "response = generate_response(test_input)\n",
    "print(\"Generated Response:\", response)"
   ]
  },
  {
   "cell_type": "code",
   "execution_count": null,
   "metadata": {},
   "outputs": [],
   "source": [
    "## Save Model\n",
    "model_path = \"email_response_generator.pt\"\n",
    "torch.save(model.state_dict(), model_path)\n",
    "print(f\"Model saved to {model_path}\")"
   ]
  }
 ],
 "metadata": {
  "kernelspec": {
   "display_name": "stable_env_nlp",
   "language": "python",
   "name": "python3"
  },
  "language_info": {
   "codemirror_mode": {
    "name": "ipython",
    "version": 3
   },
   "file_extension": ".py",
   "mimetype": "text/x-python",
   "name": "python",
   "nbconvert_exporter": "python",
   "pygments_lexer": "ipython3",
   "version": "3.10.15"
  }
 },
 "nbformat": 4,
 "nbformat_minor": 2
}
