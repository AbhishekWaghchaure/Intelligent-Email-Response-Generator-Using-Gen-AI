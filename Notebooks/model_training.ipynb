{
 "cells": [
  {
   "cell_type": "code",
   "id": "initial_id",
   "metadata": {
    "collapsed": true,
    "ExecuteTime": {
     "end_time": "2024-12-23T05:42:45.745121Z",
     "start_time": "2024-12-23T05:42:42.023060Z"
    }
   },
   "source": [
    "import pandas as pd\n",
    "import torch\n",
    "from torch.utils.data import Dataset, TensorDataset, DataLoader\n",
    "from transformers import T5Tokenizer, T5ForConditionalGeneration"
   ],
   "outputs": [
    {
     "name": "stderr",
     "output_type": "stream",
     "text": [
      "/opt/anaconda3/envs/stable_env_nlp/lib/python3.10/site-packages/tqdm/auto.py:21: TqdmWarning: IProgress not found. Please update jupyter and ipywidgets. See https://ipywidgets.readthedocs.io/en/stable/user_install.html\n",
      "  from .autonotebook import tqdm as notebook_tqdm\n",
      "/opt/anaconda3/envs/stable_env_nlp/lib/python3.10/site-packages/torchvision/datapoints/__init__.py:12: UserWarning: The torchvision.datapoints and torchvision.transforms.v2 namespaces are still Beta. While we do not expect major breaking changes, some APIs may still change according to user feedback. Please submit any feedback you may have in this issue: https://github.com/pytorch/vision/issues/6753, and you can also check out https://github.com/pytorch/vision/issues/7319 to learn more about the APIs that we suspect might involve future changes. You can silence this warning by calling torchvision.disable_beta_transforms_warning().\n",
      "  warnings.warn(_BETA_TRANSFORMS_WARNING)\n",
      "/opt/anaconda3/envs/stable_env_nlp/lib/python3.10/site-packages/torchvision/transforms/v2/__init__.py:54: UserWarning: The torchvision.datapoints and torchvision.transforms.v2 namespaces are still Beta. While we do not expect major breaking changes, some APIs may still change according to user feedback. Please submit any feedback you may have in this issue: https://github.com/pytorch/vision/issues/6753, and you can also check out https://github.com/pytorch/vision/issues/7319 to learn more about the APIs that we suspect might involve future changes. You can silence this warning by calling torchvision.disable_beta_transforms_warning().\n",
      "  warnings.warn(_BETA_TRANSFORMS_WARNING)\n"
     ]
    }
   ],
   "execution_count": 1
  },
  {
   "metadata": {
    "ExecuteTime": {
     "end_time": "2024-12-23T05:44:50.889115Z",
     "start_time": "2024-12-23T05:44:31.956622Z"
    }
   },
   "cell_type": "code",
   "source": [
    "df = pd.read_csv('/Users/abhishekwaghchaure/Desktop/Datasets/email/preprocessed_emails.csv')\n",
    "df.head()"
   ],
   "id": "ed0d47999b233f20",
   "outputs": [
    {
     "data": {
      "text/plain": [
       "                       file  \\\n",
       "0     allen-p/_sent_mail/1.   \n",
       "1    allen-p/_sent_mail/10.   \n",
       "2   allen-p/_sent_mail/100.   \n",
       "3  allen-p/_sent_mail/1000.   \n",
       "4  allen-p/_sent_mail/1001.   \n",
       "\n",
       "                                             headers  \\\n",
       "0  Message-ID: <18782981.1075855378110.JavaMail.e...   \n",
       "1  Message-ID: <15464986.1075855378456.JavaMail.e...   \n",
       "2  Message-ID: <24216240.1075855687451.JavaMail.e...   \n",
       "3  Message-ID: <13505866.1075863688222.JavaMail.e...   \n",
       "4  Message-ID: <30922949.1075863688243.JavaMail.e...   \n",
       "\n",
       "                                                body    subject  \\\n",
       "0                          Here is our forecast\\n\\n         NaN   \n",
       "1  Traveling to have a business meeting takes the...        Re:   \n",
       "2                     test successful.  way to go!!!   Re: test   \n",
       "3  Randy,\\n\\n Can you send me a schedule of the s...        NaN   \n",
       "4                Let's shoot for Tuesday at 11:45.    Re: Hello   \n",
       "\n",
       "                      from                       to  \\\n",
       "0  phillip.allen@enron.com     tim.belden@enron.com   \n",
       "1  phillip.allen@enron.com  john.lavorato@enron.com   \n",
       "2  phillip.allen@enron.com   leah.arsdall@enron.com   \n",
       "3  phillip.allen@enron.com    randall.gay@enron.com   \n",
       "4  phillip.allen@enron.com     greg.piper@enron.com   \n",
       "\n",
       "                                          clean_body  \\\n",
       "0                               Here is our forecast   \n",
       "1  Traveling to have a business meeting takes the...   \n",
       "2                          test successful way to go   \n",
       "3  Randy Can you send me a schedule of the salary...   \n",
       "4                     Lets shoot for Tuesday at 1145   \n",
       "\n",
       "                                      processed_body  \n",
       "0                             [['Here', 'forecast']]  \n",
       "1  [['Traveling', 'business', 'meeting', 'takes',...  \n",
       "2              [['test', 'successful', 'way', 'go']]  \n",
       "3  [['Randy', 'Can', 'send', 'schedule', 'salary'...  \n",
       "4             [['Lets', 'shoot', 'Tuesday', '1145']]  "
      ],
      "text/html": [
       "<div>\n",
       "<style scoped>\n",
       "    .dataframe tbody tr th:only-of-type {\n",
       "        vertical-align: middle;\n",
       "    }\n",
       "\n",
       "    .dataframe tbody tr th {\n",
       "        vertical-align: top;\n",
       "    }\n",
       "\n",
       "    .dataframe thead th {\n",
       "        text-align: right;\n",
       "    }\n",
       "</style>\n",
       "<table border=\"1\" class=\"dataframe\">\n",
       "  <thead>\n",
       "    <tr style=\"text-align: right;\">\n",
       "      <th></th>\n",
       "      <th>file</th>\n",
       "      <th>headers</th>\n",
       "      <th>body</th>\n",
       "      <th>subject</th>\n",
       "      <th>from</th>\n",
       "      <th>to</th>\n",
       "      <th>clean_body</th>\n",
       "      <th>processed_body</th>\n",
       "    </tr>\n",
       "  </thead>\n",
       "  <tbody>\n",
       "    <tr>\n",
       "      <th>0</th>\n",
       "      <td>allen-p/_sent_mail/1.</td>\n",
       "      <td>Message-ID: &lt;18782981.1075855378110.JavaMail.e...</td>\n",
       "      <td>Here is our forecast\\n\\n</td>\n",
       "      <td>NaN</td>\n",
       "      <td>phillip.allen@enron.com</td>\n",
       "      <td>tim.belden@enron.com</td>\n",
       "      <td>Here is our forecast</td>\n",
       "      <td>[['Here', 'forecast']]</td>\n",
       "    </tr>\n",
       "    <tr>\n",
       "      <th>1</th>\n",
       "      <td>allen-p/_sent_mail/10.</td>\n",
       "      <td>Message-ID: &lt;15464986.1075855378456.JavaMail.e...</td>\n",
       "      <td>Traveling to have a business meeting takes the...</td>\n",
       "      <td>Re:</td>\n",
       "      <td>phillip.allen@enron.com</td>\n",
       "      <td>john.lavorato@enron.com</td>\n",
       "      <td>Traveling to have a business meeting takes the...</td>\n",
       "      <td>[['Traveling', 'business', 'meeting', 'takes',...</td>\n",
       "    </tr>\n",
       "    <tr>\n",
       "      <th>2</th>\n",
       "      <td>allen-p/_sent_mail/100.</td>\n",
       "      <td>Message-ID: &lt;24216240.1075855687451.JavaMail.e...</td>\n",
       "      <td>test successful.  way to go!!!</td>\n",
       "      <td>Re: test</td>\n",
       "      <td>phillip.allen@enron.com</td>\n",
       "      <td>leah.arsdall@enron.com</td>\n",
       "      <td>test successful way to go</td>\n",
       "      <td>[['test', 'successful', 'way', 'go']]</td>\n",
       "    </tr>\n",
       "    <tr>\n",
       "      <th>3</th>\n",
       "      <td>allen-p/_sent_mail/1000.</td>\n",
       "      <td>Message-ID: &lt;13505866.1075863688222.JavaMail.e...</td>\n",
       "      <td>Randy,\\n\\n Can you send me a schedule of the s...</td>\n",
       "      <td>NaN</td>\n",
       "      <td>phillip.allen@enron.com</td>\n",
       "      <td>randall.gay@enron.com</td>\n",
       "      <td>Randy Can you send me a schedule of the salary...</td>\n",
       "      <td>[['Randy', 'Can', 'send', 'schedule', 'salary'...</td>\n",
       "    </tr>\n",
       "    <tr>\n",
       "      <th>4</th>\n",
       "      <td>allen-p/_sent_mail/1001.</td>\n",
       "      <td>Message-ID: &lt;30922949.1075863688243.JavaMail.e...</td>\n",
       "      <td>Let's shoot for Tuesday at 11:45.</td>\n",
       "      <td>Re: Hello</td>\n",
       "      <td>phillip.allen@enron.com</td>\n",
       "      <td>greg.piper@enron.com</td>\n",
       "      <td>Lets shoot for Tuesday at 1145</td>\n",
       "      <td>[['Lets', 'shoot', 'Tuesday', '1145']]</td>\n",
       "    </tr>\n",
       "  </tbody>\n",
       "</table>\n",
       "</div>"
      ]
     },
     "execution_count": 2,
     "metadata": {},
     "output_type": "execute_result"
    }
   ],
   "execution_count": 2
  },
  {
   "metadata": {
    "ExecuteTime": {
     "end_time": "2024-12-23T05:45:44.960614Z",
     "start_time": "2024-12-23T05:45:44.811475Z"
    }
   },
   "cell_type": "code",
   "source": "df.isnull().sum()",
   "id": "4df7f0bd08bfd8b5",
   "outputs": [
    {
     "data": {
      "text/plain": [
       "file                  0\n",
       "headers               0\n",
       "body                  0\n",
       "subject           19187\n",
       "from                  0\n",
       "to                 9143\n",
       "clean_body          145\n",
       "processed_body        0\n",
       "dtype: int64"
      ]
     },
     "execution_count": 3,
     "metadata": {},
     "output_type": "execute_result"
    }
   ],
   "execution_count": 3
  },
  {
   "metadata": {
    "ExecuteTime": {
     "end_time": "2024-12-23T05:46:36.363167Z",
     "start_time": "2024-12-23T05:46:36.157085Z"
    }
   },
   "cell_type": "code",
   "source": [
    "df = df.dropna(subset=['subject', 'processed_body'])\n",
    "df.isnull().sum()"
   ],
   "id": "db0af7618a1bc3fd",
   "outputs": [
    {
     "data": {
      "text/plain": [
       "file                 0\n",
       "headers              0\n",
       "body                 0\n",
       "subject              0\n",
       "from                 0\n",
       "to                8968\n",
       "clean_body         125\n",
       "processed_body       0\n",
       "dtype: int64"
      ]
     },
     "execution_count": 6,
     "metadata": {},
     "output_type": "execute_result"
    }
   ],
   "execution_count": 6
  },
  {
   "metadata": {
    "ExecuteTime": {
     "end_time": "2024-12-23T06:07:46.841575Z",
     "start_time": "2024-12-23T06:07:46.836553Z"
    }
   },
   "cell_type": "code",
   "source": "df['headers']",
   "id": "61e6ed9680f03aaf",
   "outputs": [
    {
     "data": {
      "text/plain": [
       "1         Message-ID: <15464986.1075855378456.JavaMail.e...\n",
       "2         Message-ID: <24216240.1075855687451.JavaMail.e...\n",
       "4         Message-ID: <30922949.1075863688243.JavaMail.e...\n",
       "5         Message-ID: <30965995.1075863688265.JavaMail.e...\n",
       "7         Message-ID: <17189699.1075863688308.JavaMail.e...\n",
       "                                ...                        \n",
       "517396    Message-ID: <26807948.1075842029936.JavaMail.e...\n",
       "517397    Message-ID: <25835861.1075842029959.JavaMail.e...\n",
       "517398    Message-ID: <28979867.1075842029988.JavaMail.e...\n",
       "517399    Message-ID: <22052556.1075842030013.JavaMail.e...\n",
       "517400    Message-ID: <28618979.1075842030037.JavaMail.e...\n",
       "Name: headers, Length: 498214, dtype: object"
      ]
     },
     "execution_count": 8,
     "metadata": {},
     "output_type": "execute_result"
    }
   ],
   "execution_count": 8
  },
  {
   "metadata": {},
   "cell_type": "code",
   "outputs": [],
   "execution_count": null,
   "source": [
    "class EmailDataset(Dataset):\n",
    "    def __init__(self, dataframe, tokenizer, max_len = 512):\n",
    "        self.data = dataframe\n",
    "        self.tokenizer = tokenizer\n",
    "        self.max_len = max_len\n",
    "\n",
    "    def __len__(self):\n",
    "        return len(self.data)\n",
    "\n",
    "    def __getitem__(self, index):\n"
   ],
   "id": "d26a76949b61c1cf"
  }
 ],
 "metadata": {
  "kernelspec": {
   "display_name": "Python 3",
   "language": "python",
   "name": "python3"
  },
  "language_info": {
   "codemirror_mode": {
    "name": "ipython",
    "version": 2
   },
   "file_extension": ".py",
   "mimetype": "text/x-python",
   "name": "python",
   "nbconvert_exporter": "python",
   "pygments_lexer": "ipython2",
   "version": "2.7.6"
  }
 },
 "nbformat": 4,
 "nbformat_minor": 5
}
