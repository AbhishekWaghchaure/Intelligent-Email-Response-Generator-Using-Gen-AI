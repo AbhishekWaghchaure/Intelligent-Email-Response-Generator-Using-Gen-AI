{
 "cells": [
  {
   "cell_type": "code",
   "execution_count": 1,
   "id": "initial_id",
   "metadata": {
    "ExecuteTime": {
     "end_time": "2024-12-23T11:11:44.143832Z",
     "start_time": "2024-12-23T11:11:44.129991Z"
    },
    "collapsed": true
   },
   "outputs": [
    {
     "name": "stderr",
     "output_type": "stream",
     "text": [
      "/opt/anaconda3/envs/stable_env_nlp/lib/python3.10/site-packages/tqdm/auto.py:21: TqdmWarning: IProgress not found. Please update jupyter and ipywidgets. See https://ipywidgets.readthedocs.io/en/stable/user_install.html\n",
      "  from .autonotebook import tqdm as notebook_tqdm\n",
      "/opt/anaconda3/envs/stable_env_nlp/lib/python3.10/site-packages/torchvision/datapoints/__init__.py:12: UserWarning: The torchvision.datapoints and torchvision.transforms.v2 namespaces are still Beta. While we do not expect major breaking changes, some APIs may still change according to user feedback. Please submit any feedback you may have in this issue: https://github.com/pytorch/vision/issues/6753, and you can also check out https://github.com/pytorch/vision/issues/7319 to learn more about the APIs that we suspect might involve future changes. You can silence this warning by calling torchvision.disable_beta_transforms_warning().\n",
      "  warnings.warn(_BETA_TRANSFORMS_WARNING)\n",
      "/opt/anaconda3/envs/stable_env_nlp/lib/python3.10/site-packages/torchvision/transforms/v2/__init__.py:54: UserWarning: The torchvision.datapoints and torchvision.transforms.v2 namespaces are still Beta. While we do not expect major breaking changes, some APIs may still change according to user feedback. Please submit any feedback you may have in this issue: https://github.com/pytorch/vision/issues/6753, and you can also check out https://github.com/pytorch/vision/issues/7319 to learn more about the APIs that we suspect might involve future changes. You can silence this warning by calling torchvision.disable_beta_transforms_warning().\n",
      "  warnings.warn(_BETA_TRANSFORMS_WARNING)\n"
     ]
    }
   ],
   "source": [
    "import pandas as pd\n",
    "import torch\n",
    "from torch.utils.data import Dataset, TensorDataset, DataLoader\n",
    "from transformers import T5Tokenizer, T5ForConditionalGeneration\n",
    "from sklearn.model_selection import train_test_split\n",
    "from transformers import AdamW\n",
    "from tqdm import tqdm\n",
    "from torch.optim import AdamW\n"
   ]
  },
  {
   "cell_type": "code",
   "execution_count": 2,
   "id": "ed0d47999b233f20",
   "metadata": {
    "ExecuteTime": {
     "end_time": "2024-12-23T10:52:21.384334Z",
     "start_time": "2024-12-23T10:52:02.501783Z"
    }
   },
   "outputs": [
    {
     "data": {
      "text/html": [
       "<div>\n",
       "<style scoped>\n",
       "    .dataframe tbody tr th:only-of-type {\n",
       "        vertical-align: middle;\n",
       "    }\n",
       "\n",
       "    .dataframe tbody tr th {\n",
       "        vertical-align: top;\n",
       "    }\n",
       "\n",
       "    .dataframe thead th {\n",
       "        text-align: right;\n",
       "    }\n",
       "</style>\n",
       "<table border=\"1\" class=\"dataframe\">\n",
       "  <thead>\n",
       "    <tr style=\"text-align: right;\">\n",
       "      <th></th>\n",
       "      <th>file</th>\n",
       "      <th>headers</th>\n",
       "      <th>body</th>\n",
       "      <th>subject</th>\n",
       "      <th>from</th>\n",
       "      <th>to</th>\n",
       "      <th>clean_body</th>\n",
       "      <th>processed_body</th>\n",
       "      <th>date</th>\n",
       "      <th>response</th>\n",
       "    </tr>\n",
       "  </thead>\n",
       "  <tbody>\n",
       "    <tr>\n",
       "      <th>0</th>\n",
       "      <td>semperger-c/deleted_items/46.</td>\n",
       "      <td>Message-ID: &lt;30978077.1075841544706.JavaMail.e...</td>\n",
       "      <td>Time is running very short.  Is your company p...</td>\n",
       "      <td>!!!   OATI Etag 1.7 Minimum Requirements   !!!</td>\n",
       "      <td>frank.billington@oatiinc.com</td>\n",
       "      <td>cara.semperger@enron.com</td>\n",
       "      <td>Time is running very short Is your company pre...</td>\n",
       "      <td>[['Time', 'running', 'short', 'Is', 'company',...</td>\n",
       "      <td>2002-02-01 11:25:00-08:00</td>\n",
       "      <td>[['Time', 'running', 'short', 'Is', 'company',...</td>\n",
       "    </tr>\n",
       "    <tr>\n",
       "      <th>1</th>\n",
       "      <td>king-j/deleted_items/19.</td>\n",
       "      <td>Message-ID: &lt;15244269.1075840797931.JavaMail.e...</td>\n",
       "      <td>Time is running very short.  Is your company p...</td>\n",
       "      <td>!!!   OATI Etag 1.7 Minimum Requirements   !!!</td>\n",
       "      <td>frank.billington@oatiinc.com</td>\n",
       "      <td>jeff.king@enron.com</td>\n",
       "      <td>Time is running very short Is your company pre...</td>\n",
       "      <td>[['Time', 'running', 'short', 'Is', 'company',...</td>\n",
       "      <td>2002-02-01 11:28:51-08:00</td>\n",
       "      <td>[['Time', 'running', 'short', 'Is', 'company',...</td>\n",
       "    </tr>\n",
       "    <tr>\n",
       "      <th>2</th>\n",
       "      <td>platter-p/inbox/43.</td>\n",
       "      <td>Message-ID: &lt;394365.1075841413683.JavaMail.eva...</td>\n",
       "      <td>Time is running very short.  Is your company p...</td>\n",
       "      <td>!!!   OATI Etag 1.7 Minimum Requirements   !!!</td>\n",
       "      <td>frank.billington@oatiinc.com</td>\n",
       "      <td>phillip.platter@enron.com</td>\n",
       "      <td>Time is running very short Is your company pre...</td>\n",
       "      <td>[['Time', 'running', 'short', 'Is', 'company',...</td>\n",
       "      <td>2002-02-01 11:32:28-08:00</td>\n",
       "      <td>[['Time', 'running', 'short', 'Is', 'company',...</td>\n",
       "    </tr>\n",
       "    <tr>\n",
       "      <th>3</th>\n",
       "      <td>salisbury-h/inbox/196.</td>\n",
       "      <td>Message-ID: &lt;19201127.1075841505530.JavaMail.e...</td>\n",
       "      <td>Immediately delete and DO NOT OPEN email \\n \\n...</td>\n",
       "      <td>!!!!!!!!!!!GONE.SCR VIRUS Warning!!!!!!!!!!!11</td>\n",
       "      <td>david.steiner@enron.com</td>\n",
       "      <td>center.dl-portland@enron.com</td>\n",
       "      <td>Immediately delete and DO NOT OPEN email From ...</td>\n",
       "      <td>[['Immediately', 'delete', 'DO', 'NOT', 'OPEN'...</td>\n",
       "      <td>2001-12-04 11:49:46-08:00</td>\n",
       "      <td>[['Immediately', 'delete', 'DO', 'NOT', 'OPEN'...</td>\n",
       "    </tr>\n",
       "    <tr>\n",
       "      <th>4</th>\n",
       "      <td>kaminski-v/all_documents/1055.</td>\n",
       "      <td>Message-ID: &lt;8575423.1075856206811.JavaMail.ev...</td>\n",
       "      <td>HENWOOD ANNOUNCES A MAJOR NEW RELEASE AND FUNC...</td>\n",
       "      <td>\" Henwood's Rationalizing Midwest Power Market...</td>\n",
       "      <td>cfarrell@hesinet.com</td>\n",
       "      <td>vkamins@ect.enron.com</td>\n",
       "      <td>HENWOOD ANNOUNCES A MAJOR NEW RELEASE AND FUNC...</td>\n",
       "      <td>[['HENWOOD', 'ANNOUNCES', 'A', 'MAJOR', 'NEW',...</td>\n",
       "      <td>2001-03-19 03:17:00-08:00</td>\n",
       "      <td>[['HENWOOD', 'ANNOUNCES', 'A', 'MAJOR', 'NEW',...</td>\n",
       "    </tr>\n",
       "  </tbody>\n",
       "</table>\n",
       "</div>"
      ],
      "text/plain": [
       "                             file  \\\n",
       "0   semperger-c/deleted_items/46.   \n",
       "1        king-j/deleted_items/19.   \n",
       "2             platter-p/inbox/43.   \n",
       "3          salisbury-h/inbox/196.   \n",
       "4  kaminski-v/all_documents/1055.   \n",
       "\n",
       "                                             headers  \\\n",
       "0  Message-ID: <30978077.1075841544706.JavaMail.e...   \n",
       "1  Message-ID: <15244269.1075840797931.JavaMail.e...   \n",
       "2  Message-ID: <394365.1075841413683.JavaMail.eva...   \n",
       "3  Message-ID: <19201127.1075841505530.JavaMail.e...   \n",
       "4  Message-ID: <8575423.1075856206811.JavaMail.ev...   \n",
       "\n",
       "                                                body  \\\n",
       "0  Time is running very short.  Is your company p...   \n",
       "1  Time is running very short.  Is your company p...   \n",
       "2  Time is running very short.  Is your company p...   \n",
       "3  Immediately delete and DO NOT OPEN email \\n \\n...   \n",
       "4  HENWOOD ANNOUNCES A MAJOR NEW RELEASE AND FUNC...   \n",
       "\n",
       "                                             subject  \\\n",
       "0     !!!   OATI Etag 1.7 Minimum Requirements   !!!   \n",
       "1     !!!   OATI Etag 1.7 Minimum Requirements   !!!   \n",
       "2     !!!   OATI Etag 1.7 Minimum Requirements   !!!   \n",
       "3     !!!!!!!!!!!GONE.SCR VIRUS Warning!!!!!!!!!!!11   \n",
       "4  \" Henwood's Rationalizing Midwest Power Market...   \n",
       "\n",
       "                           from                            to  \\\n",
       "0  frank.billington@oatiinc.com      cara.semperger@enron.com   \n",
       "1  frank.billington@oatiinc.com           jeff.king@enron.com   \n",
       "2  frank.billington@oatiinc.com     phillip.platter@enron.com   \n",
       "3       david.steiner@enron.com  center.dl-portland@enron.com   \n",
       "4          cfarrell@hesinet.com         vkamins@ect.enron.com   \n",
       "\n",
       "                                          clean_body  \\\n",
       "0  Time is running very short Is your company pre...   \n",
       "1  Time is running very short Is your company pre...   \n",
       "2  Time is running very short Is your company pre...   \n",
       "3  Immediately delete and DO NOT OPEN email From ...   \n",
       "4  HENWOOD ANNOUNCES A MAJOR NEW RELEASE AND FUNC...   \n",
       "\n",
       "                                      processed_body  \\\n",
       "0  [['Time', 'running', 'short', 'Is', 'company',...   \n",
       "1  [['Time', 'running', 'short', 'Is', 'company',...   \n",
       "2  [['Time', 'running', 'short', 'Is', 'company',...   \n",
       "3  [['Immediately', 'delete', 'DO', 'NOT', 'OPEN'...   \n",
       "4  [['HENWOOD', 'ANNOUNCES', 'A', 'MAJOR', 'NEW',...   \n",
       "\n",
       "                        date  \\\n",
       "0  2002-02-01 11:25:00-08:00   \n",
       "1  2002-02-01 11:28:51-08:00   \n",
       "2  2002-02-01 11:32:28-08:00   \n",
       "3  2001-12-04 11:49:46-08:00   \n",
       "4  2001-03-19 03:17:00-08:00   \n",
       "\n",
       "                                            response  \n",
       "0  [['Time', 'running', 'short', 'Is', 'company',...  \n",
       "1  [['Time', 'running', 'short', 'Is', 'company',...  \n",
       "2  [['Time', 'running', 'short', 'Is', 'company',...  \n",
       "3  [['Immediately', 'delete', 'DO', 'NOT', 'OPEN'...  \n",
       "4  [['HENWOOD', 'ANNOUNCES', 'A', 'MAJOR', 'NEW',...  "
      ]
     },
     "execution_count": 2,
     "metadata": {},
     "output_type": "execute_result"
    }
   ],
   "source": [
    "df = pd.read_csv('/Users/abhishekwaghchaure/Desktop/Datasets/email/preprocessed_emails.csv')\n",
    "df.head()"
   ]
  },
  {
   "cell_type": "code",
   "execution_count": 3,
   "id": "4df7f0bd08bfd8b5",
   "metadata": {
    "ExecuteTime": {
     "end_time": "2024-12-23T10:52:21.590652Z",
     "start_time": "2024-12-23T10:52:21.488599Z"
    }
   },
   "outputs": [
    {
     "data": {
      "text/plain": [
       "file                 0\n",
       "headers              0\n",
       "body                 0\n",
       "subject              0\n",
       "from                 0\n",
       "to                4756\n",
       "clean_body          32\n",
       "processed_body       0\n",
       "date                 0\n",
       "response             0\n",
       "dtype: int64"
      ]
     },
     "execution_count": 3,
     "metadata": {},
     "output_type": "execute_result"
    }
   ],
   "source": [
    "df.isnull().sum()"
   ]
  },
  {
   "cell_type": "code",
   "execution_count": 4,
   "id": "db0af7618a1bc3fd",
   "metadata": {
    "ExecuteTime": {
     "end_time": "2024-12-23T10:52:21.810337Z",
     "start_time": "2024-12-23T10:52:21.627525Z"
    }
   },
   "outputs": [
    {
     "data": {
      "text/plain": [
       "file                 0\n",
       "headers              0\n",
       "body                 0\n",
       "subject              0\n",
       "from                 0\n",
       "to                4756\n",
       "clean_body          32\n",
       "processed_body       0\n",
       "date                 0\n",
       "response             0\n",
       "dtype: int64"
      ]
     },
     "execution_count": 4,
     "metadata": {},
     "output_type": "execute_result"
    }
   ],
   "source": [
    "df = df.dropna(subset=['subject', 'processed_body'])\n",
    "df.isnull().sum()"
   ]
  },
  {
   "cell_type": "code",
   "execution_count": 5,
   "id": "d26a76949b61c1cf",
   "metadata": {
    "ExecuteTime": {
     "end_time": "2024-12-23T11:00:55.629115Z",
     "start_time": "2024-12-23T11:00:55.622496Z"
    }
   },
   "outputs": [],
   "source": [
    "class EmailDataset(Dataset):\n",
    "    def __init__(self, dataframe, tokenizer, max_len = 512):\n",
    "        self.data = dataframe\n",
    "        self.tokenizer = tokenizer\n",
    "        self.max_len = max_len\n",
    "\n",
    "    def __len__(self):\n",
    "        return len(self.data)\n",
    "\n",
    "    def __getitem__(self, index):\n",
    "        row = self.data.iloc[index]\n",
    "        input_text = f\"Email Body : {row['processed_body']} Subject : {row['subject']}\"\n",
    "        target_text = row['response']\n",
    "\n",
    "        # Tokenization\n",
    "        input_encodings = self.tokenizer(\n",
    "            input_text, max_length = self.max_len, truncation = True, padding = 'max_length', return_tensors = 'pt'\n",
    "        )\n",
    "        target_encodings = self.tokenizer(\n",
    "            target_text, max_length = self.max_len, truncation = True, padding = 'max_length', return_tensors = 'pt'\n",
    "        )\n",
    "\n",
    "        return{\n",
    "            \"input_ids\": input_encodings[\"input_ids\"].squeeze(),\n",
    "            \"attention_mask\": input_encodings[\"attention_mask\"].squeeze(),\n",
    "            \"labels\": target_encodings[\"input_ids\"].squeeze(),\n",
    "        }\n",
    "\n"
   ]
  },
  {
   "cell_type": "code",
   "execution_count": 6,
   "id": "7d5f961aef20d593",
   "metadata": {
    "ExecuteTime": {
     "end_time": "2024-12-23T11:01:02.967995Z",
     "start_time": "2024-12-23T11:01:01.811180Z"
    }
   },
   "outputs": [
    {
     "name": "stderr",
     "output_type": "stream",
     "text": [
      "You are using the default legacy behaviour of the <class 'transformers.models.t5.tokenization_t5.T5Tokenizer'>. This is expected, and simply means that the `legacy` (previous) behavior will be used so nothing changes for you. If you want to use the new behaviour, set `legacy=False`. This should only be set if you understand what it means, and thoroughly read the reason why this was added as explained in https://github.com/huggingface/transformers/pull/24565\n"
     ]
    }
   ],
   "source": [
    "tokenizer = T5Tokenizer.from_pretrained('t5-small')"
   ]
  },
  {
   "cell_type": "code",
   "execution_count": 7,
   "id": "1a086d5dbbe839b3",
   "metadata": {
    "ExecuteTime": {
     "end_time": "2024-12-23T11:01:03.537903Z",
     "start_time": "2024-12-23T11:01:03.463713Z"
    }
   },
   "outputs": [],
   "source": [
    "train_df, test_df = train_test_split(df, test_size=0.2, random_state=32)\n",
    "\n",
    "train_dataset = EmailDataset(train_df, tokenizer)\n",
    "test_dataset = EmailDataset(test_df, tokenizer)"
   ]
  },
  {
   "cell_type": "code",
   "execution_count": 8,
   "id": "40c8274dbc718573",
   "metadata": {
    "ExecuteTime": {
     "end_time": "2024-12-23T11:01:04.601254Z",
     "start_time": "2024-12-23T11:01:04.592133Z"
    }
   },
   "outputs": [],
   "source": [
    "train_loader = DataLoader(train_dataset, batch_size=8, shuffle=True)\n",
    "test_loader = DataLoader(test_dataset, batch_size=8)"
   ]
  },
  {
   "cell_type": "code",
   "execution_count": 9,
   "id": "5266452b91926d04",
   "metadata": {
    "ExecuteTime": {
     "end_time": "2024-12-23T11:06:16.632187Z",
     "start_time": "2024-12-23T11:05:55.276519Z"
    }
   },
   "outputs": [
    {
     "ename": "",
     "evalue": "",
     "output_type": "error",
     "traceback": [
      "\u001b[1;31mThe Kernel crashed while executing code in the current cell or a previous cell. \n",
      "\u001b[1;31mPlease review the code in the cell(s) to identify a possible cause of the failure. \n",
      "\u001b[1;31mClick <a href='https://aka.ms/vscodeJupyterKernelCrash'>here</a> for more info. \n",
      "\u001b[1;31mView Jupyter <a href='command:jupyter.viewOutput'>log</a> for further details."
     ]
    }
   ],
   "source": [
    "device = torch.device(\"mps\" if torch.backends.mps.is_available() else \"cpu\")\n",
    "model = T5ForConditionalGeneration.from_pretrained(\"t5-small\").to(device)"
   ]
  },
  {
   "cell_type": "code",
   "execution_count": null,
   "id": "96d1100a5785305e",
   "metadata": {
    "ExecuteTime": {
     "start_time": "2024-12-23T11:07:08.327049Z"
    },
    "jupyter": {
     "is_executing": true
    }
   },
   "outputs": [
    {
     "name": "stderr",
     "output_type": "stream",
     "text": [
      "  0%|          | 0/33936 [00:00<?, ?batch/s]Passing a tuple of `past_key_values` is deprecated and will be removed in Transformers v4.48.0. You should pass an instance of `EncoderDecoderCache` instead, e.g. `past_key_values=EncoderDecoderCache.from_legacy_cache(past_key_values)`.\n"
     ]
    }
   ],
   "source": [
    "optimizer = AdamW(model.parameters(), lr=5e-5)\n",
    "epochs = 3\n",
    "\n",
    "model.train()\n",
    "for epoch in range(epochs):\n",
    "    total_loss = 0\n",
    "    with tqdm(train_loader, unit = 'batch') as tepoch:\n",
    "        for batch in tepoch:\n",
    "            input_ids = batch[\"input_ids\"].to(device)\n",
    "            attention_mask = batch[\"attention_mask\"].to(device)\n",
    "            labels = batch[\"labels\"].to(device)\n",
    "\n",
    "            optimizer.zero_grad()\n",
    "            outputs = model(input_ids=input_ids, attention_mask=attention_mask, labels=labels)\n",
    "            loss = outputs.loss\n",
    "            loss.backward()\n",
    "\n",
    "            # Synchronize gradients for MPS\n",
    "            if device.type == \"mps\":\n",
    "                torch.mps.sync()\n",
    "\n",
    "            optimizer.step()\n",
    "\n",
    "            total_loss += loss.item()\n",
    "\n",
    "            tepoch.set_description(f\"Epoch {epoch + 1}\")\n",
    "            tepoch.set_postfix(loss=f\"{loss.item():.4f}\")\n",
    "\n",
    "        print(f\"Epoch {epoch + 1}/{epochs}, Total Loss: {total_loss:.4f}\")"
   ]
  }
 ],
 "metadata": {
  "kernelspec": {
   "display_name": "stable_env_nlp",
   "language": "python",
   "name": "python3"
  },
  "language_info": {
   "codemirror_mode": {
    "name": "ipython",
    "version": 3
   },
   "file_extension": ".py",
   "mimetype": "text/x-python",
   "name": "python",
   "nbconvert_exporter": "python",
   "pygments_lexer": "ipython3",
   "version": "3.10.15"
  }
 },
 "nbformat": 4,
 "nbformat_minor": 5
}
