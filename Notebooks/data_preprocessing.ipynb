{
 "cells": [
  {
   "cell_type": "code",
   "id": "initial_id",
   "metadata": {
    "collapsed": true,
    "ExecuteTime": {
     "end_time": "2024-12-22T07:14:01.544170Z",
     "start_time": "2024-12-22T07:14:01.538440Z"
    }
   },
   "source": [
    "import pandas as pd\n",
    "import numpy as np\n",
    "\n",
    "import re\n",
    "import nltk\n",
    "from nltk.corpus import stopwords\n",
    "\n",
    "\n",
    "from sklearn.model_selection import train_test_split"
   ],
   "outputs": [],
   "execution_count": 43
  },
  {
   "metadata": {
    "ExecuteTime": {
     "end_time": "2024-12-22T07:09:20.674061Z",
     "start_time": "2024-12-22T07:09:20.670219Z"
    }
   },
   "cell_type": "code",
   "source": [
    "nltk.download('stopwords')\n",
    "nltk.download('punkt')"
   ],
   "id": "6b177c10f6fb73d0",
   "outputs": [
    {
     "name": "stderr",
     "output_type": "stream",
     "text": [
      "[nltk_data] Downloading package stopwords to\n",
      "[nltk_data]     /Users/abhishekwaghchaure/nltk_data...\n",
      "[nltk_data]   Package stopwords is already up-to-date!\n",
      "[nltk_data] Downloading package punkt to\n",
      "[nltk_data]     /Users/abhishekwaghchaure/nltk_data...\n",
      "[nltk_data]   Package punkt is already up-to-date!\n"
     ]
    },
    {
     "data": {
      "text/plain": [
       "True"
      ]
     },
     "execution_count": 30,
     "metadata": {},
     "output_type": "execute_result"
    }
   ],
   "execution_count": 30
  },
  {
   "metadata": {
    "ExecuteTime": {
     "end_time": "2024-12-22T07:09:31.184908Z",
     "start_time": "2024-12-22T07:09:20.695100Z"
    }
   },
   "cell_type": "code",
   "source": [
    "df = pd.read_csv('/Users/abhishekwaghchaure/Desktop/Datasets/emails.csv')\n",
    "df.head()"
   ],
   "id": "a764cfe679c4a780",
   "outputs": [
    {
     "data": {
      "text/plain": [
       "                       file                                            message\n",
       "0     allen-p/_sent_mail/1.  Message-ID: <18782981.1075855378110.JavaMail.e...\n",
       "1    allen-p/_sent_mail/10.  Message-ID: <15464986.1075855378456.JavaMail.e...\n",
       "2   allen-p/_sent_mail/100.  Message-ID: <24216240.1075855687451.JavaMail.e...\n",
       "3  allen-p/_sent_mail/1000.  Message-ID: <13505866.1075863688222.JavaMail.e...\n",
       "4  allen-p/_sent_mail/1001.  Message-ID: <30922949.1075863688243.JavaMail.e..."
      ],
      "text/html": [
       "<div>\n",
       "<style scoped>\n",
       "    .dataframe tbody tr th:only-of-type {\n",
       "        vertical-align: middle;\n",
       "    }\n",
       "\n",
       "    .dataframe tbody tr th {\n",
       "        vertical-align: top;\n",
       "    }\n",
       "\n",
       "    .dataframe thead th {\n",
       "        text-align: right;\n",
       "    }\n",
       "</style>\n",
       "<table border=\"1\" class=\"dataframe\">\n",
       "  <thead>\n",
       "    <tr style=\"text-align: right;\">\n",
       "      <th></th>\n",
       "      <th>file</th>\n",
       "      <th>message</th>\n",
       "    </tr>\n",
       "  </thead>\n",
       "  <tbody>\n",
       "    <tr>\n",
       "      <th>0</th>\n",
       "      <td>allen-p/_sent_mail/1.</td>\n",
       "      <td>Message-ID: &lt;18782981.1075855378110.JavaMail.e...</td>\n",
       "    </tr>\n",
       "    <tr>\n",
       "      <th>1</th>\n",
       "      <td>allen-p/_sent_mail/10.</td>\n",
       "      <td>Message-ID: &lt;15464986.1075855378456.JavaMail.e...</td>\n",
       "    </tr>\n",
       "    <tr>\n",
       "      <th>2</th>\n",
       "      <td>allen-p/_sent_mail/100.</td>\n",
       "      <td>Message-ID: &lt;24216240.1075855687451.JavaMail.e...</td>\n",
       "    </tr>\n",
       "    <tr>\n",
       "      <th>3</th>\n",
       "      <td>allen-p/_sent_mail/1000.</td>\n",
       "      <td>Message-ID: &lt;13505866.1075863688222.JavaMail.e...</td>\n",
       "    </tr>\n",
       "    <tr>\n",
       "      <th>4</th>\n",
       "      <td>allen-p/_sent_mail/1001.</td>\n",
       "      <td>Message-ID: &lt;30922949.1075863688243.JavaMail.e...</td>\n",
       "    </tr>\n",
       "  </tbody>\n",
       "</table>\n",
       "</div>"
      ]
     },
     "execution_count": 31,
     "metadata": {},
     "output_type": "execute_result"
    }
   ],
   "execution_count": 31
  },
  {
   "metadata": {
    "ExecuteTime": {
     "end_time": "2024-12-22T07:09:31.273807Z",
     "start_time": "2024-12-22T07:09:31.217445Z"
    }
   },
   "cell_type": "code",
   "source": [
    "print(df.info())\n",
    "print(df.shape)"
   ],
   "id": "6194ba568eed2831",
   "outputs": [
    {
     "name": "stdout",
     "output_type": "stream",
     "text": [
      "<class 'pandas.core.frame.DataFrame'>\n",
      "RangeIndex: 517401 entries, 0 to 517400\n",
      "Data columns (total 2 columns):\n",
      " #   Column   Non-Null Count   Dtype \n",
      "---  ------   --------------   ----- \n",
      " 0   file     517401 non-null  object\n",
      " 1   message  517401 non-null  object\n",
      "dtypes: object(2)\n",
      "memory usage: 7.9+ MB\n",
      "None\n",
      "(517401, 2)\n"
     ]
    }
   ],
   "execution_count": 32
  },
  {
   "metadata": {
    "ExecuteTime": {
     "end_time": "2024-12-22T07:09:31.301818Z",
     "start_time": "2024-12-22T07:09:31.299407Z"
    }
   },
   "cell_type": "code",
   "source": "df['message'][2]",
   "id": "6e0c1843a94a8cd0",
   "outputs": [
    {
     "data": {
      "text/plain": [
       "\"Message-ID: <24216240.1075855687451.JavaMail.evans@thyme>\\nDate: Wed, 18 Oct 2000 03:00:00 -0700 (PDT)\\nFrom: phillip.allen@enron.com\\nTo: leah.arsdall@enron.com\\nSubject: Re: test\\nMime-Version: 1.0\\nContent-Type: text/plain; charset=us-ascii\\nContent-Transfer-Encoding: 7bit\\nX-From: Phillip K Allen\\nX-To: Leah Van Arsdall\\nX-cc: \\nX-bcc: \\nX-Folder: \\\\Phillip_Allen_Dec2000\\\\Notes Folders\\\\'sent mail\\nX-Origin: Allen-P\\nX-FileName: pallen.nsf\\n\\ntest successful.  way to go!!!\""
      ]
     },
     "execution_count": 33,
     "metadata": {},
     "output_type": "execute_result"
    }
   ],
   "execution_count": 33
  },
  {
   "metadata": {
    "ExecuteTime": {
     "end_time": "2024-12-22T07:09:31.379864Z",
     "start_time": "2024-12-22T07:09:31.323324Z"
    }
   },
   "cell_type": "code",
   "source": [
    "## Missing Values\n",
    "df.isnull().sum()"
   ],
   "id": "328663b1f272008c",
   "outputs": [
    {
     "data": {
      "text/plain": [
       "file       0\n",
       "message    0\n",
       "dtype: int64"
      ]
     },
     "execution_count": 34,
     "metadata": {},
     "output_type": "execute_result"
    }
   ],
   "execution_count": 34
  },
  {
   "metadata": {},
   "cell_type": "markdown",
   "source": "#### No missing Values Detected",
   "id": "1785f138011889ab"
  },
  {
   "metadata": {
    "ExecuteTime": {
     "end_time": "2024-12-22T07:09:31.403524Z",
     "start_time": "2024-12-22T07:09:31.401558Z"
    }
   },
   "cell_type": "code",
   "source": [
    "## Extracting Email Headers and body\n",
    "def split_email_content(email):\n",
    "    headers, body = email.split('\\n\\n', 1) if '\\n\\n' in email else (email, \"\")\n",
    "    return pd.Series([headers, body])"
   ],
   "id": "69f64bf137f0a727",
   "outputs": [],
   "execution_count": 35
  },
  {
   "metadata": {
    "ExecuteTime": {
     "end_time": "2024-12-22T07:09:50.144977Z",
     "start_time": "2024-12-22T07:09:31.428934Z"
    }
   },
   "cell_type": "code",
   "source": "df[['headers', 'body']] =df['message'].apply(split_email_content)",
   "id": "a6ccf9e051b10476",
   "outputs": [],
   "execution_count": 36
  },
  {
   "metadata": {
    "ExecuteTime": {
     "end_time": "2024-12-22T07:09:50.167520Z",
     "start_time": "2024-12-22T07:09:50.161070Z"
    }
   },
   "cell_type": "code",
   "source": "df.head()",
   "id": "8e05cc7509775be",
   "outputs": [
    {
     "data": {
      "text/plain": [
       "                       file  \\\n",
       "0     allen-p/_sent_mail/1.   \n",
       "1    allen-p/_sent_mail/10.   \n",
       "2   allen-p/_sent_mail/100.   \n",
       "3  allen-p/_sent_mail/1000.   \n",
       "4  allen-p/_sent_mail/1001.   \n",
       "\n",
       "                                             message  \\\n",
       "0  Message-ID: <18782981.1075855378110.JavaMail.e...   \n",
       "1  Message-ID: <15464986.1075855378456.JavaMail.e...   \n",
       "2  Message-ID: <24216240.1075855687451.JavaMail.e...   \n",
       "3  Message-ID: <13505866.1075863688222.JavaMail.e...   \n",
       "4  Message-ID: <30922949.1075863688243.JavaMail.e...   \n",
       "\n",
       "                                             headers  \\\n",
       "0  Message-ID: <18782981.1075855378110.JavaMail.e...   \n",
       "1  Message-ID: <15464986.1075855378456.JavaMail.e...   \n",
       "2  Message-ID: <24216240.1075855687451.JavaMail.e...   \n",
       "3  Message-ID: <13505866.1075863688222.JavaMail.e...   \n",
       "4  Message-ID: <30922949.1075863688243.JavaMail.e...   \n",
       "\n",
       "                                                body  \n",
       "0                          Here is our forecast\\n\\n   \n",
       "1  Traveling to have a business meeting takes the...  \n",
       "2                     test successful.  way to go!!!  \n",
       "3  Randy,\\n\\n Can you send me a schedule of the s...  \n",
       "4                Let's shoot for Tuesday at 11:45.    "
      ],
      "text/html": [
       "<div>\n",
       "<style scoped>\n",
       "    .dataframe tbody tr th:only-of-type {\n",
       "        vertical-align: middle;\n",
       "    }\n",
       "\n",
       "    .dataframe tbody tr th {\n",
       "        vertical-align: top;\n",
       "    }\n",
       "\n",
       "    .dataframe thead th {\n",
       "        text-align: right;\n",
       "    }\n",
       "</style>\n",
       "<table border=\"1\" class=\"dataframe\">\n",
       "  <thead>\n",
       "    <tr style=\"text-align: right;\">\n",
       "      <th></th>\n",
       "      <th>file</th>\n",
       "      <th>message</th>\n",
       "      <th>headers</th>\n",
       "      <th>body</th>\n",
       "    </tr>\n",
       "  </thead>\n",
       "  <tbody>\n",
       "    <tr>\n",
       "      <th>0</th>\n",
       "      <td>allen-p/_sent_mail/1.</td>\n",
       "      <td>Message-ID: &lt;18782981.1075855378110.JavaMail.e...</td>\n",
       "      <td>Message-ID: &lt;18782981.1075855378110.JavaMail.e...</td>\n",
       "      <td>Here is our forecast\\n\\n</td>\n",
       "    </tr>\n",
       "    <tr>\n",
       "      <th>1</th>\n",
       "      <td>allen-p/_sent_mail/10.</td>\n",
       "      <td>Message-ID: &lt;15464986.1075855378456.JavaMail.e...</td>\n",
       "      <td>Message-ID: &lt;15464986.1075855378456.JavaMail.e...</td>\n",
       "      <td>Traveling to have a business meeting takes the...</td>\n",
       "    </tr>\n",
       "    <tr>\n",
       "      <th>2</th>\n",
       "      <td>allen-p/_sent_mail/100.</td>\n",
       "      <td>Message-ID: &lt;24216240.1075855687451.JavaMail.e...</td>\n",
       "      <td>Message-ID: &lt;24216240.1075855687451.JavaMail.e...</td>\n",
       "      <td>test successful.  way to go!!!</td>\n",
       "    </tr>\n",
       "    <tr>\n",
       "      <th>3</th>\n",
       "      <td>allen-p/_sent_mail/1000.</td>\n",
       "      <td>Message-ID: &lt;13505866.1075863688222.JavaMail.e...</td>\n",
       "      <td>Message-ID: &lt;13505866.1075863688222.JavaMail.e...</td>\n",
       "      <td>Randy,\\n\\n Can you send me a schedule of the s...</td>\n",
       "    </tr>\n",
       "    <tr>\n",
       "      <th>4</th>\n",
       "      <td>allen-p/_sent_mail/1001.</td>\n",
       "      <td>Message-ID: &lt;30922949.1075863688243.JavaMail.e...</td>\n",
       "      <td>Message-ID: &lt;30922949.1075863688243.JavaMail.e...</td>\n",
       "      <td>Let's shoot for Tuesday at 11:45.</td>\n",
       "    </tr>\n",
       "  </tbody>\n",
       "</table>\n",
       "</div>"
      ]
     },
     "execution_count": 37,
     "metadata": {},
     "output_type": "execute_result"
    }
   ],
   "execution_count": 37
  },
  {
   "metadata": {
    "ExecuteTime": {
     "end_time": "2024-12-22T07:11:26.129055Z",
     "start_time": "2024-12-22T07:11:26.125940Z"
    }
   },
   "cell_type": "code",
   "source": [
    "# print(df['message'][2])\n",
    "print(df['body'][2])\n",
    "print(df['headers'][2])"
   ],
   "id": "a9578725e1a40308",
   "outputs": [
    {
     "name": "stdout",
     "output_type": "stream",
     "text": [
      "test successful.  way to go!!!\n",
      "Message-ID: <24216240.1075855687451.JavaMail.evans@thyme>\n",
      "Date: Wed, 18 Oct 2000 03:00:00 -0700 (PDT)\n",
      "From: phillip.allen@enron.com\n",
      "To: leah.arsdall@enron.com\n",
      "Subject: Re: test\n",
      "Mime-Version: 1.0\n",
      "Content-Type: text/plain; charset=us-ascii\n",
      "Content-Transfer-Encoding: 7bit\n",
      "X-From: Phillip K Allen\n",
      "X-To: Leah Van Arsdall\n",
      "X-cc: \n",
      "X-bcc: \n",
      "X-Folder: \\Phillip_Allen_Dec2000\\Notes Folders\\'sent mail\n",
      "X-Origin: Allen-P\n",
      "X-FileName: pallen.nsf\n"
     ]
    }
   ],
   "execution_count": 42
  },
  {
   "metadata": {
    "ExecuteTime": {
     "end_time": "2024-12-22T07:09:50.360630Z",
     "start_time": "2024-12-22T07:09:50.309868Z"
    }
   },
   "cell_type": "code",
   "source": [
    "df = df.drop(columns = ['message'])\n",
    "print(f\"Email split into headers and body\")"
   ],
   "id": "f83de966b6257cb0",
   "outputs": [
    {
     "name": "stdout",
     "output_type": "stream",
     "text": [
      "Email split into headers and body\n"
     ]
    }
   ],
   "execution_count": 39
  },
  {
   "metadata": {
    "ExecuteTime": {
     "end_time": "2024-12-22T07:16:35.640409Z",
     "start_time": "2024-12-22T07:16:35.632645Z"
    }
   },
   "cell_type": "code",
   "source": [
    "## Extract Usefull Headers\n",
    "def extract_header_value(header_text, field):\n",
    "    match = re.search(fr\"{field}: (.+)\", header_text, re.IGNORECASE)\n",
    "    return match.group(1).strip() if match else None\n"
   ],
   "id": "76a0ba45a689e699",
   "outputs": [],
   "execution_count": 44
  },
  {
   "metadata": {
    "ExecuteTime": {
     "end_time": "2024-12-22T07:18:24.785372Z",
     "start_time": "2024-12-22T07:18:21.414399Z"
    }
   },
   "cell_type": "code",
   "source": [
    "df['subject'] = df['headers'].apply(lambda x: extract_header_value(x, 'Subject'))\n",
    "df['from'] = df['headers'].apply(lambda x: extract_header_value(x, 'from'))\n",
    "df['to'] = df['headers'].apply(lambda x: extract_header_value(x, 'to'))"
   ],
   "id": "7ee9ebccf696b47d",
   "outputs": [],
   "execution_count": 45
  },
  {
   "metadata": {
    "ExecuteTime": {
     "end_time": "2024-12-22T07:25:23.342211Z",
     "start_time": "2024-12-22T07:25:23.337901Z"
    }
   },
   "cell_type": "code",
   "source": "df.iloc[1000]",
   "id": "b5a5c9f912a4e601",
   "outputs": [
    {
     "data": {
      "text/plain": [
       "file                              allen-p/all_documents/462.\n",
       "headers    Message-ID: <1081797.1075855696183.JavaMail.ev...\n",
       "body       Lucy,\\n\\nHere is the rentroll.\\n\\nMy only ques...\n",
       "subject                                                 None\n",
       "from                                 phillip.allen@enron.com\n",
       "to                                stagecoachmama@hotmail.com\n",
       "Name: 1000, dtype: object"
      ]
     },
     "execution_count": 54,
     "metadata": {},
     "output_type": "execute_result"
    }
   ],
   "execution_count": 54
  },
  {
   "metadata": {
    "ExecuteTime": {
     "end_time": "2024-12-22T07:25:59.058538Z",
     "start_time": "2024-12-22T07:25:59.053907Z"
    }
   },
   "cell_type": "code",
   "source": [
    "## Cleaning Text\n",
    "def clean_text(text):\n",
    "    text = re.sub(r'<.*?>', '', text)  # Remove HTML tags\n",
    "    text = re.sub(r'[^\\w\\s]', '', text)  # Remove special characters\n",
    "    text = re.sub(r'\\s+', ' ', text).strip()  # Remove extra whitespace\n",
    "    return text"
   ],
   "id": "9c4a8781201610f",
   "outputs": [],
   "execution_count": 55
  },
  {
   "metadata": {
    "ExecuteTime": {
     "end_time": "2024-12-22T07:26:31.793310Z",
     "start_time": "2024-12-22T07:26:00.351599Z"
    }
   },
   "cell_type": "code",
   "source": "df['clean_body'] = df['body'].apply(clean_text)",
   "id": "ed40f268f440c942",
   "outputs": [],
   "execution_count": 56
  },
  {
   "metadata": {
    "ExecuteTime": {
     "end_time": "2024-12-22T07:31:06.586830Z",
     "start_time": "2024-12-22T07:31:06.583492Z"
    }
   },
   "cell_type": "code",
   "source": "df['clean_body'][3]",
   "id": "7cf7dac8acbd53b",
   "outputs": [
    {
     "data": {
      "text/plain": [
       "'Randy Can you send me a schedule of the salary and level of everyone in the scheduling group Plus your thoughts on any changes that need to be made Patti S for example Phillip'"
      ]
     },
     "execution_count": 64,
     "metadata": {},
     "output_type": "execute_result"
    }
   ],
   "execution_count": 64
  },
  {
   "metadata": {
    "ExecuteTime": {
     "end_time": "2024-12-22T07:31:20.934778Z",
     "start_time": "2024-12-22T07:31:20.929877Z"
    }
   },
   "cell_type": "code",
   "source": "df['body'][3]",
   "id": "22c59966acfed092",
   "outputs": [
    {
     "data": {
      "text/plain": [
       "'Randy,\\n\\n Can you send me a schedule of the salary and level of everyone in the \\nscheduling group.  Plus your thoughts on any changes that need to be made.  \\n(Patti S for example)\\n\\nPhillip'"
      ]
     },
     "execution_count": 65,
     "metadata": {},
     "output_type": "execute_result"
    }
   ],
   "execution_count": 65
  },
  {
   "metadata": {
    "ExecuteTime": {
     "end_time": "2024-12-22T07:37:33.721285Z",
     "start_time": "2024-12-22T07:37:33.719083Z"
    }
   },
   "cell_type": "code",
   "source": [
    "def preprocess_text(text):\n",
    "    corpus = []\n",
    "    words = nltk.word_tokenize(text)\n",
    "    words = [word for word in words if word not in set(stopwords.words('english'))]\n",
    "    corpus.append(words)\n",
    "    return corpus"
   ],
   "id": "5006caf841f8dc98",
   "outputs": [],
   "execution_count": 67
  },
  {
   "metadata": {
    "ExecuteTime": {
     "end_time": "2024-12-22T09:06:56.444379Z",
     "start_time": "2024-12-22T07:38:29.251737Z"
    }
   },
   "cell_type": "code",
   "source": "df['processed_body']  = df['clean_body'].apply(preprocess_text)",
   "id": "221644337c07c8a8",
   "outputs": [],
   "execution_count": 68
  },
  {
   "metadata": {
    "ExecuteTime": {
     "end_time": "2024-12-22T09:24:48.924679Z",
     "start_time": "2024-12-22T09:24:01.521530Z"
    }
   },
   "cell_type": "code",
   "source": [
    "# Saving the preprocessed data\n",
    "df.to_csv(\"/Users/abhishekwaghchaure/Desktop/Datasets/preprocessed_emails.csv\", index=False)\n",
    "print(\"\\nPreprocessed dataset saved as 'preprocessed_emails.csv'.\")"
   ],
   "id": "6f4250e89cf4f280",
   "outputs": [
    {
     "name": "stdout",
     "output_type": "stream",
     "text": [
      "\n",
      "Preprocessed dataset saved as 'preprocessed_emails.csv'.\n"
     ]
    }
   ],
   "execution_count": 71
  },
  {
   "metadata": {
    "ExecuteTime": {
     "end_time": "2024-12-22T09:22:41.754730Z",
     "start_time": "2024-12-22T09:22:41.745437Z"
    }
   },
   "cell_type": "code",
   "source": "df['processed_body']",
   "id": "93e1a711d2c28c81",
   "outputs": [
    {
     "data": {
      "text/plain": [
       "0                                        [[Here, forecast]]\n",
       "1         [[Traveling, business, meeting, takes, fun, tr...\n",
       "2                             [[test, successful, way, go]]\n",
       "3         [[Randy, Can, send, schedule, salary, level, e...\n",
       "4                            [[Lets, shoot, Tuesday, 1145]]\n",
       "                                ...                        \n",
       "517396    [[This, trade, OILSPECHEDGENG, John, Lavoratos...\n",
       "517397    [[Some, position, Alberta, Term, book, I, send...\n",
       "517398    [[2, Original, Message, From, Doucet, Dawn, Se...\n",
       "517399    [[Analyst, Rank, Stephane, Brodeur, 1, Chad, C...\n",
       "517400    [[think, YMCA, class, people, recovering, hear...\n",
       "Name: processed_body, Length: 517401, dtype: object"
      ]
     },
     "execution_count": 70,
     "metadata": {},
     "output_type": "execute_result"
    }
   ],
   "execution_count": 70
  }
 ],
 "metadata": {
  "kernelspec": {
   "display_name": "Python 3",
   "language": "python",
   "name": "python3"
  },
  "language_info": {
   "codemirror_mode": {
    "name": "ipython",
    "version": 2
   },
   "file_extension": ".py",
   "mimetype": "text/x-python",
   "name": "python",
   "nbconvert_exporter": "python",
   "pygments_lexer": "ipython2",
   "version": "2.7.6"
  }
 },
 "nbformat": 4,
 "nbformat_minor": 5
}
