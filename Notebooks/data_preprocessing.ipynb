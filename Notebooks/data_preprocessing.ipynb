{
 "cells": [
  {
   "cell_type": "code",
   "id": "initial_id",
   "metadata": {
    "collapsed": true,
    "ExecuteTime": {
     "end_time": "2024-12-23T07:29:18.267902Z",
     "start_time": "2024-12-23T07:29:18.264146Z"
    }
   },
   "source": [
    "import pandas as pd\n",
    "import numpy as np\n",
    "\n",
    "import re\n",
    "import nltk\n",
    "from nltk.corpus import stopwords\n",
    "\n",
    "\n",
    "from sklearn.model_selection import train_test_split"
   ],
   "outputs": [],
   "execution_count": 8
  },
  {
   "metadata": {
    "ExecuteTime": {
     "end_time": "2024-12-23T07:29:18.287166Z",
     "start_time": "2024-12-23T07:29:18.283126Z"
    }
   },
   "cell_type": "code",
   "source": [
    "nltk.download('stopwords')\n",
    "nltk.download('punkt')"
   ],
   "id": "6b177c10f6fb73d0",
   "outputs": [
    {
     "name": "stderr",
     "output_type": "stream",
     "text": [
      "[nltk_data] Downloading package stopwords to\n",
      "[nltk_data]     /Users/abhishekwaghchaure/nltk_data...\n",
      "[nltk_data]   Package stopwords is already up-to-date!\n",
      "[nltk_data] Downloading package punkt to\n",
      "[nltk_data]     /Users/abhishekwaghchaure/nltk_data...\n",
      "[nltk_data]   Package punkt is already up-to-date!\n"
     ]
    },
    {
     "data": {
      "text/plain": [
       "True"
      ]
     },
     "execution_count": 9,
     "metadata": {},
     "output_type": "execute_result"
    }
   ],
   "execution_count": 9
  },
  {
   "metadata": {
    "ExecuteTime": {
     "end_time": "2024-12-23T07:29:28.306516Z",
     "start_time": "2024-12-23T07:29:18.368460Z"
    }
   },
   "cell_type": "code",
   "source": [
    "df = pd.read_csv('/Users/abhishekwaghchaure/Desktop/Datasets/email/emails.csv')\n",
    "df.head()"
   ],
   "id": "a764cfe679c4a780",
   "outputs": [
    {
     "data": {
      "text/plain": [
       "                       file                                            message\n",
       "0     allen-p/_sent_mail/1.  Message-ID: <18782981.1075855378110.JavaMail.e...\n",
       "1    allen-p/_sent_mail/10.  Message-ID: <15464986.1075855378456.JavaMail.e...\n",
       "2   allen-p/_sent_mail/100.  Message-ID: <24216240.1075855687451.JavaMail.e...\n",
       "3  allen-p/_sent_mail/1000.  Message-ID: <13505866.1075863688222.JavaMail.e...\n",
       "4  allen-p/_sent_mail/1001.  Message-ID: <30922949.1075863688243.JavaMail.e..."
      ],
      "text/html": [
       "<div>\n",
       "<style scoped>\n",
       "    .dataframe tbody tr th:only-of-type {\n",
       "        vertical-align: middle;\n",
       "    }\n",
       "\n",
       "    .dataframe tbody tr th {\n",
       "        vertical-align: top;\n",
       "    }\n",
       "\n",
       "    .dataframe thead th {\n",
       "        text-align: right;\n",
       "    }\n",
       "</style>\n",
       "<table border=\"1\" class=\"dataframe\">\n",
       "  <thead>\n",
       "    <tr style=\"text-align: right;\">\n",
       "      <th></th>\n",
       "      <th>file</th>\n",
       "      <th>message</th>\n",
       "    </tr>\n",
       "  </thead>\n",
       "  <tbody>\n",
       "    <tr>\n",
       "      <th>0</th>\n",
       "      <td>allen-p/_sent_mail/1.</td>\n",
       "      <td>Message-ID: &lt;18782981.1075855378110.JavaMail.e...</td>\n",
       "    </tr>\n",
       "    <tr>\n",
       "      <th>1</th>\n",
       "      <td>allen-p/_sent_mail/10.</td>\n",
       "      <td>Message-ID: &lt;15464986.1075855378456.JavaMail.e...</td>\n",
       "    </tr>\n",
       "    <tr>\n",
       "      <th>2</th>\n",
       "      <td>allen-p/_sent_mail/100.</td>\n",
       "      <td>Message-ID: &lt;24216240.1075855687451.JavaMail.e...</td>\n",
       "    </tr>\n",
       "    <tr>\n",
       "      <th>3</th>\n",
       "      <td>allen-p/_sent_mail/1000.</td>\n",
       "      <td>Message-ID: &lt;13505866.1075863688222.JavaMail.e...</td>\n",
       "    </tr>\n",
       "    <tr>\n",
       "      <th>4</th>\n",
       "      <td>allen-p/_sent_mail/1001.</td>\n",
       "      <td>Message-ID: &lt;30922949.1075863688243.JavaMail.e...</td>\n",
       "    </tr>\n",
       "  </tbody>\n",
       "</table>\n",
       "</div>"
      ]
     },
     "execution_count": 10,
     "metadata": {},
     "output_type": "execute_result"
    }
   ],
   "execution_count": 10
  },
  {
   "metadata": {
    "ExecuteTime": {
     "end_time": "2024-12-23T07:29:28.406413Z",
     "start_time": "2024-12-23T07:29:28.341108Z"
    }
   },
   "cell_type": "code",
   "source": [
    "print(df.info())\n",
    "print(df.shape)"
   ],
   "id": "6194ba568eed2831",
   "outputs": [
    {
     "name": "stdout",
     "output_type": "stream",
     "text": [
      "<class 'pandas.core.frame.DataFrame'>\n",
      "RangeIndex: 517401 entries, 0 to 517400\n",
      "Data columns (total 2 columns):\n",
      " #   Column   Non-Null Count   Dtype \n",
      "---  ------   --------------   ----- \n",
      " 0   file     517401 non-null  object\n",
      " 1   message  517401 non-null  object\n",
      "dtypes: object(2)\n",
      "memory usage: 7.9+ MB\n",
      "None\n",
      "(517401, 2)\n"
     ]
    }
   ],
   "execution_count": 11
  },
  {
   "metadata": {
    "ExecuteTime": {
     "end_time": "2024-12-23T07:29:28.433792Z",
     "start_time": "2024-12-23T07:29:28.428983Z"
    }
   },
   "cell_type": "code",
   "source": "df['message'][2]",
   "id": "6e0c1843a94a8cd0",
   "outputs": [
    {
     "data": {
      "text/plain": [
       "\"Message-ID: <24216240.1075855687451.JavaMail.evans@thyme>\\nDate: Wed, 18 Oct 2000 03:00:00 -0700 (PDT)\\nFrom: phillip.allen@enron.com\\nTo: leah.arsdall@enron.com\\nSubject: Re: test\\nMime-Version: 1.0\\nContent-Type: text/plain; charset=us-ascii\\nContent-Transfer-Encoding: 7bit\\nX-From: Phillip K Allen\\nX-To: Leah Van Arsdall\\nX-cc: \\nX-bcc: \\nX-Folder: \\\\Phillip_Allen_Dec2000\\\\Notes Folders\\\\'sent mail\\nX-Origin: Allen-P\\nX-FileName: pallen.nsf\\n\\ntest successful.  way to go!!!\""
      ]
     },
     "execution_count": 12,
     "metadata": {},
     "output_type": "execute_result"
    }
   ],
   "execution_count": 12
  },
  {
   "metadata": {
    "ExecuteTime": {
     "end_time": "2024-12-23T07:29:28.505362Z",
     "start_time": "2024-12-23T07:29:28.447266Z"
    }
   },
   "cell_type": "code",
   "source": [
    "## Missing Values\n",
    "df.isnull().sum()"
   ],
   "id": "328663b1f272008c",
   "outputs": [
    {
     "data": {
      "text/plain": [
       "file       0\n",
       "message    0\n",
       "dtype: int64"
      ]
     },
     "execution_count": 13,
     "metadata": {},
     "output_type": "execute_result"
    }
   ],
   "execution_count": 13
  },
  {
   "metadata": {},
   "cell_type": "markdown",
   "source": "#### No missing Values Detected",
   "id": "1785f138011889ab"
  },
  {
   "metadata": {
    "ExecuteTime": {
     "end_time": "2024-12-23T07:29:28.516833Z",
     "start_time": "2024-12-23T07:29:28.514054Z"
    }
   },
   "cell_type": "code",
   "source": [
    "## Extracting Email Headers and body\n",
    "def split_email_content(email):\n",
    "    headers, body = email.split('\\n\\n', 1) if '\\n\\n' in email else (email, \"\")\n",
    "    return pd.Series([headers, body])"
   ],
   "id": "69f64bf137f0a727",
   "outputs": [],
   "execution_count": 14
  },
  {
   "metadata": {
    "ExecuteTime": {
     "end_time": "2024-12-23T07:29:50.027340Z",
     "start_time": "2024-12-23T07:29:28.571001Z"
    }
   },
   "cell_type": "code",
   "source": "df[['headers', 'body']] =df['message'].apply(split_email_content)",
   "id": "a6ccf9e051b10476",
   "outputs": [],
   "execution_count": 15
  },
  {
   "metadata": {
    "ExecuteTime": {
     "end_time": "2024-12-23T07:29:50.054669Z",
     "start_time": "2024-12-23T07:29:50.048957Z"
    }
   },
   "cell_type": "code",
   "source": "df.head()",
   "id": "8e05cc7509775be",
   "outputs": [
    {
     "data": {
      "text/plain": [
       "                       file  \\\n",
       "0     allen-p/_sent_mail/1.   \n",
       "1    allen-p/_sent_mail/10.   \n",
       "2   allen-p/_sent_mail/100.   \n",
       "3  allen-p/_sent_mail/1000.   \n",
       "4  allen-p/_sent_mail/1001.   \n",
       "\n",
       "                                             message  \\\n",
       "0  Message-ID: <18782981.1075855378110.JavaMail.e...   \n",
       "1  Message-ID: <15464986.1075855378456.JavaMail.e...   \n",
       "2  Message-ID: <24216240.1075855687451.JavaMail.e...   \n",
       "3  Message-ID: <13505866.1075863688222.JavaMail.e...   \n",
       "4  Message-ID: <30922949.1075863688243.JavaMail.e...   \n",
       "\n",
       "                                             headers  \\\n",
       "0  Message-ID: <18782981.1075855378110.JavaMail.e...   \n",
       "1  Message-ID: <15464986.1075855378456.JavaMail.e...   \n",
       "2  Message-ID: <24216240.1075855687451.JavaMail.e...   \n",
       "3  Message-ID: <13505866.1075863688222.JavaMail.e...   \n",
       "4  Message-ID: <30922949.1075863688243.JavaMail.e...   \n",
       "\n",
       "                                                body  \n",
       "0                          Here is our forecast\\n\\n   \n",
       "1  Traveling to have a business meeting takes the...  \n",
       "2                     test successful.  way to go!!!  \n",
       "3  Randy,\\n\\n Can you send me a schedule of the s...  \n",
       "4                Let's shoot for Tuesday at 11:45.    "
      ],
      "text/html": [
       "<div>\n",
       "<style scoped>\n",
       "    .dataframe tbody tr th:only-of-type {\n",
       "        vertical-align: middle;\n",
       "    }\n",
       "\n",
       "    .dataframe tbody tr th {\n",
       "        vertical-align: top;\n",
       "    }\n",
       "\n",
       "    .dataframe thead th {\n",
       "        text-align: right;\n",
       "    }\n",
       "</style>\n",
       "<table border=\"1\" class=\"dataframe\">\n",
       "  <thead>\n",
       "    <tr style=\"text-align: right;\">\n",
       "      <th></th>\n",
       "      <th>file</th>\n",
       "      <th>message</th>\n",
       "      <th>headers</th>\n",
       "      <th>body</th>\n",
       "    </tr>\n",
       "  </thead>\n",
       "  <tbody>\n",
       "    <tr>\n",
       "      <th>0</th>\n",
       "      <td>allen-p/_sent_mail/1.</td>\n",
       "      <td>Message-ID: &lt;18782981.1075855378110.JavaMail.e...</td>\n",
       "      <td>Message-ID: &lt;18782981.1075855378110.JavaMail.e...</td>\n",
       "      <td>Here is our forecast\\n\\n</td>\n",
       "    </tr>\n",
       "    <tr>\n",
       "      <th>1</th>\n",
       "      <td>allen-p/_sent_mail/10.</td>\n",
       "      <td>Message-ID: &lt;15464986.1075855378456.JavaMail.e...</td>\n",
       "      <td>Message-ID: &lt;15464986.1075855378456.JavaMail.e...</td>\n",
       "      <td>Traveling to have a business meeting takes the...</td>\n",
       "    </tr>\n",
       "    <tr>\n",
       "      <th>2</th>\n",
       "      <td>allen-p/_sent_mail/100.</td>\n",
       "      <td>Message-ID: &lt;24216240.1075855687451.JavaMail.e...</td>\n",
       "      <td>Message-ID: &lt;24216240.1075855687451.JavaMail.e...</td>\n",
       "      <td>test successful.  way to go!!!</td>\n",
       "    </tr>\n",
       "    <tr>\n",
       "      <th>3</th>\n",
       "      <td>allen-p/_sent_mail/1000.</td>\n",
       "      <td>Message-ID: &lt;13505866.1075863688222.JavaMail.e...</td>\n",
       "      <td>Message-ID: &lt;13505866.1075863688222.JavaMail.e...</td>\n",
       "      <td>Randy,\\n\\n Can you send me a schedule of the s...</td>\n",
       "    </tr>\n",
       "    <tr>\n",
       "      <th>4</th>\n",
       "      <td>allen-p/_sent_mail/1001.</td>\n",
       "      <td>Message-ID: &lt;30922949.1075863688243.JavaMail.e...</td>\n",
       "      <td>Message-ID: &lt;30922949.1075863688243.JavaMail.e...</td>\n",
       "      <td>Let's shoot for Tuesday at 11:45.</td>\n",
       "    </tr>\n",
       "  </tbody>\n",
       "</table>\n",
       "</div>"
      ]
     },
     "execution_count": 16,
     "metadata": {},
     "output_type": "execute_result"
    }
   ],
   "execution_count": 16
  },
  {
   "metadata": {
    "ExecuteTime": {
     "end_time": "2024-12-23T07:29:50.087687Z",
     "start_time": "2024-12-23T07:29:50.084662Z"
    }
   },
   "cell_type": "code",
   "source": [
    "# print(df['message'][2])\n",
    "print(df['body'][2])\n",
    "print(df['headers'][2])"
   ],
   "id": "a9578725e1a40308",
   "outputs": [
    {
     "name": "stdout",
     "output_type": "stream",
     "text": [
      "test successful.  way to go!!!\n",
      "Message-ID: <24216240.1075855687451.JavaMail.evans@thyme>\n",
      "Date: Wed, 18 Oct 2000 03:00:00 -0700 (PDT)\n",
      "From: phillip.allen@enron.com\n",
      "To: leah.arsdall@enron.com\n",
      "Subject: Re: test\n",
      "Mime-Version: 1.0\n",
      "Content-Type: text/plain; charset=us-ascii\n",
      "Content-Transfer-Encoding: 7bit\n",
      "X-From: Phillip K Allen\n",
      "X-To: Leah Van Arsdall\n",
      "X-cc: \n",
      "X-bcc: \n",
      "X-Folder: \\Phillip_Allen_Dec2000\\Notes Folders\\'sent mail\n",
      "X-Origin: Allen-P\n",
      "X-FileName: pallen.nsf\n"
     ]
    }
   ],
   "execution_count": 17
  },
  {
   "metadata": {
    "ExecuteTime": {
     "end_time": "2024-12-23T07:29:50.177212Z",
     "start_time": "2024-12-23T07:29:50.145261Z"
    }
   },
   "cell_type": "code",
   "source": [
    "df = df.drop(columns = ['message'])\n",
    "print(f\"Email split into headers and body\")"
   ],
   "id": "f83de966b6257cb0",
   "outputs": [
    {
     "name": "stdout",
     "output_type": "stream",
     "text": [
      "Email split into headers and body\n"
     ]
    }
   ],
   "execution_count": 18
  },
  {
   "metadata": {
    "ExecuteTime": {
     "end_time": "2024-12-23T07:29:50.207550Z",
     "start_time": "2024-12-23T07:29:50.205193Z"
    }
   },
   "cell_type": "code",
   "source": [
    "## Extract Usefull Headers\n",
    "def extract_header_value(header_text, field):\n",
    "    match = re.search(fr\"{field}: (.+)\", header_text, re.IGNORECASE)\n",
    "    return match.group(1).strip() if match else None\n"
   ],
   "id": "76a0ba45a689e699",
   "outputs": [],
   "execution_count": 19
  },
  {
   "metadata": {
    "ExecuteTime": {
     "end_time": "2024-12-23T07:29:53.616684Z",
     "start_time": "2024-12-23T07:29:50.244380Z"
    }
   },
   "cell_type": "code",
   "source": [
    "df['subject'] = df['headers'].apply(lambda x: extract_header_value(x, 'Subject'))\n",
    "df['from'] = df['headers'].apply(lambda x: extract_header_value(x, 'from'))\n",
    "df['to'] = df['headers'].apply(lambda x: extract_header_value(x, 'to'))"
   ],
   "id": "7ee9ebccf696b47d",
   "outputs": [],
   "execution_count": 20
  },
  {
   "metadata": {
    "ExecuteTime": {
     "end_time": "2024-12-23T07:29:53.625194Z",
     "start_time": "2024-12-23T07:29:53.622021Z"
    }
   },
   "cell_type": "code",
   "source": "df.iloc[1000]",
   "id": "b5a5c9f912a4e601",
   "outputs": [
    {
     "data": {
      "text/plain": [
       "file                              allen-p/all_documents/462.\n",
       "headers    Message-ID: <1081797.1075855696183.JavaMail.ev...\n",
       "body       Lucy,\\n\\nHere is the rentroll.\\n\\nMy only ques...\n",
       "subject                                                 None\n",
       "from                                 phillip.allen@enron.com\n",
       "to                                stagecoachmama@hotmail.com\n",
       "Name: 1000, dtype: object"
      ]
     },
     "execution_count": 21,
     "metadata": {},
     "output_type": "execute_result"
    }
   ],
   "execution_count": 21
  },
  {
   "metadata": {
    "ExecuteTime": {
     "end_time": "2024-12-23T07:29:53.658217Z",
     "start_time": "2024-12-23T07:29:53.655768Z"
    }
   },
   "cell_type": "code",
   "source": [
    "## Cleaning Text\n",
    "def clean_text(text):\n",
    "    text = re.sub(r'<.*?>', '', text)  # Remove HTML tags\n",
    "    text = re.sub(r'[^\\w\\s]', '', text)  # Remove special characters\n",
    "    text = re.sub(r'\\s+', ' ', text).strip()  # Remove extra whitespace\n",
    "    return text"
   ],
   "id": "9c4a8781201610f",
   "outputs": [],
   "execution_count": 22
  },
  {
   "metadata": {
    "ExecuteTime": {
     "end_time": "2024-12-23T07:30:30.386401Z",
     "start_time": "2024-12-23T07:29:53.718918Z"
    }
   },
   "cell_type": "code",
   "source": "df['clean_body'] = df['body'].apply(clean_text)",
   "id": "ed40f268f440c942",
   "outputs": [],
   "execution_count": 23
  },
  {
   "metadata": {
    "ExecuteTime": {
     "end_time": "2024-12-23T07:30:30.394857Z",
     "start_time": "2024-12-23T07:30:30.391798Z"
    }
   },
   "cell_type": "code",
   "source": "df['clean_body'][3]",
   "id": "7cf7dac8acbd53b",
   "outputs": [
    {
     "data": {
      "text/plain": [
       "'Randy Can you send me a schedule of the salary and level of everyone in the scheduling group Plus your thoughts on any changes that need to be made Patti S for example Phillip'"
      ]
     },
     "execution_count": 24,
     "metadata": {},
     "output_type": "execute_result"
    }
   ],
   "execution_count": 24
  },
  {
   "metadata": {
    "ExecuteTime": {
     "end_time": "2024-12-23T07:30:30.418192Z",
     "start_time": "2024-12-23T07:30:30.414829Z"
    }
   },
   "cell_type": "code",
   "source": "df['body'][3]",
   "id": "22c59966acfed092",
   "outputs": [
    {
     "data": {
      "text/plain": [
       "'Randy,\\n\\n Can you send me a schedule of the salary and level of everyone in the \\nscheduling group.  Plus your thoughts on any changes that need to be made.  \\n(Patti S for example)\\n\\nPhillip'"
      ]
     },
     "execution_count": 25,
     "metadata": {},
     "output_type": "execute_result"
    }
   ],
   "execution_count": 25
  },
  {
   "metadata": {
    "ExecuteTime": {
     "end_time": "2024-12-23T07:30:30.446813Z",
     "start_time": "2024-12-23T07:30:30.443771Z"
    }
   },
   "cell_type": "code",
   "source": [
    "def preprocess_text(text):\n",
    "    corpus = []\n",
    "    words = nltk.word_tokenize(text)\n",
    "    words = [word for word in words if word not in set(stopwords.words('english'))]\n",
    "    corpus.append(words)\n",
    "    return corpus"
   ],
   "id": "5006caf841f8dc98",
   "outputs": [],
   "execution_count": 26
  },
  {
   "metadata": {
    "ExecuteTime": {
     "end_time": "2024-12-23T09:20:52.258998Z",
     "start_time": "2024-12-23T07:30:30.465841Z"
    }
   },
   "cell_type": "code",
   "source": "df['processed_body']  = df['clean_body'].apply(preprocess_text)",
   "id": "221644337c07c8a8",
   "outputs": [],
   "execution_count": 27
  },
  {
   "metadata": {
    "ExecuteTime": {
     "end_time": "2024-12-23T09:20:52.570138Z",
     "start_time": "2024-12-23T09:20:52.552927Z"
    }
   },
   "cell_type": "code",
   "source": "df['processed_body']",
   "id": "93e1a711d2c28c81",
   "outputs": [
    {
     "data": {
      "text/plain": [
       "0                                        [[Here, forecast]]\n",
       "1         [[Traveling, business, meeting, takes, fun, tr...\n",
       "2                             [[test, successful, way, go]]\n",
       "3         [[Randy, Can, send, schedule, salary, level, e...\n",
       "4                            [[Lets, shoot, Tuesday, 1145]]\n",
       "                                ...                        \n",
       "517396    [[This, trade, OILSPECHEDGENG, John, Lavoratos...\n",
       "517397    [[Some, position, Alberta, Term, book, I, send...\n",
       "517398    [[2, Original, Message, From, Doucet, Dawn, Se...\n",
       "517399    [[Analyst, Rank, Stephane, Brodeur, 1, Chad, C...\n",
       "517400    [[think, YMCA, class, people, recovering, hear...\n",
       "Name: processed_body, Length: 517401, dtype: object"
      ]
     },
     "execution_count": 28,
     "metadata": {},
     "output_type": "execute_result"
    }
   ],
   "execution_count": 28
  },
  {
   "metadata": {
    "ExecuteTime": {
     "end_time": "2024-12-23T09:20:52.778368Z",
     "start_time": "2024-12-23T09:20:52.776524Z"
    }
   },
   "cell_type": "code",
   "source": [
    "## Extracting Dates from Email Headers\n",
    "def extract_date(headers):\n",
    "    match = re.search(r\"Date: (.+)\", headers)\n",
    "    if match:\n",
    "        return match.group(1).strip()\n",
    "    return None"
   ],
   "id": "2c8a5feae878fc61",
   "outputs": [],
   "execution_count": 29
  },
  {
   "metadata": {
    "ExecuteTime": {
     "end_time": "2024-12-23T09:20:53.817998Z",
     "start_time": "2024-12-23T09:20:52.945120Z"
    }
   },
   "cell_type": "code",
   "source": [
    "df['date'] = df['headers'].apply(extract_date)\n",
    "df['date'].head()"
   ],
   "id": "cbea5cb90191eb38",
   "outputs": [
    {
     "data": {
      "text/plain": [
       "0    Mon, 14 May 2001 16:39:00 -0700 (PDT)\n",
       "1     Fri, 4 May 2001 13:51:00 -0700 (PDT)\n",
       "2    Wed, 18 Oct 2000 03:00:00 -0700 (PDT)\n",
       "3    Mon, 23 Oct 2000 06:13:00 -0700 (PDT)\n",
       "4    Thu, 31 Aug 2000 05:07:00 -0700 (PDT)\n",
       "Name: date, dtype: object"
      ]
     },
     "execution_count": 30,
     "metadata": {},
     "output_type": "execute_result"
    }
   ],
   "execution_count": 30
  },
  {
   "metadata": {
    "ExecuteTime": {
     "end_time": "2024-12-23T09:21:48.760567Z",
     "start_time": "2024-12-23T09:20:53.846003Z"
    }
   },
   "cell_type": "code",
   "source": [
    "df['date'] = pd.to_datetime(df['date'], errors='coerce')\n",
    "df['date'].head()"
   ],
   "id": "b49e5a3332917e5a",
   "outputs": [
    {
     "name": "stderr",
     "output_type": "stream",
     "text": [
      "/var/folders/vt/hgv58_ws0rjfsg_1d8fcxgww0000gn/T/ipykernel_1236/739734227.py:1: UserWarning: Could not infer format, so each element will be parsed individually, falling back to `dateutil`. To ensure parsing is consistent and as-expected, please specify a format.\n",
      "  df['date'] = pd.to_datetime(df['date'], errors='coerce')\n",
      "/var/folders/vt/hgv58_ws0rjfsg_1d8fcxgww0000gn/T/ipykernel_1236/739734227.py:1: FutureWarning: In a future version of pandas, parsing datetimes with mixed time zones will raise an error unless `utc=True`. Please specify `utc=True` to opt in to the new behaviour and silence this warning. To create a `Series` with mixed offsets and `object` dtype, please use `apply` and `datetime.datetime.strptime`\n",
      "  df['date'] = pd.to_datetime(df['date'], errors='coerce')\n"
     ]
    },
    {
     "data": {
      "text/plain": [
       "0    2001-05-14 16:39:00-07:00\n",
       "1    2001-05-04 13:51:00-07:00\n",
       "2    2000-10-18 03:00:00-07:00\n",
       "3    2000-10-23 06:13:00-07:00\n",
       "4    2000-08-31 05:07:00-07:00\n",
       "Name: date, dtype: object"
      ]
     },
     "execution_count": 31,
     "metadata": {},
     "output_type": "execute_result"
    }
   ],
   "execution_count": 31
  },
  {
   "metadata": {
    "ExecuteTime": {
     "end_time": "2024-12-23T10:13:51.328072Z",
     "start_time": "2024-12-23T10:13:18.144643Z"
    }
   },
   "cell_type": "code",
   "source": [
    "df = df.sort_values(by=['subject', 'date']).reset_index(drop=True)\n",
    "df['date'].head()"
   ],
   "id": "5d14bf1fd7d9fd4f",
   "outputs": [
    {
     "data": {
      "text/plain": [
       "0    2002-02-01 11:25:00-08:00\n",
       "1    2002-02-01 11:28:51-08:00\n",
       "2    2002-02-01 11:32:28-08:00\n",
       "3    2001-12-04 11:49:46-08:00\n",
       "4    2001-03-19 03:17:00-08:00\n",
       "Name: date, dtype: object"
      ]
     },
     "execution_count": 38,
     "metadata": {},
     "output_type": "execute_result"
    }
   ],
   "execution_count": 38
  },
  {
   "metadata": {
    "ExecuteTime": {
     "end_time": "2024-12-23T09:21:54.314816Z",
     "start_time": "2024-12-23T09:21:52.436519Z"
    }
   },
   "cell_type": "code",
   "source": [
    "# Create a \"response\" column using the next email in the same thread\n",
    "df['response'] = df.groupby('subject')['processed_body'].shift(-1)\n",
    "\n",
    "# Drop rows where no response exists (e.g., last email in the thread)\n",
    "df = df.dropna(subset=['response'])\n",
    "\n",
    "# Display sample rows to verify\n",
    "df[['subject', 'processed_body', 'response']].head()"
   ],
   "id": "73cbe2255f66aec7",
   "outputs": [
    {
     "data": {
      "text/plain": [
       "                                             subject  \\\n",
       "0     !!!   OATI Etag 1.7 Minimum Requirements   !!!   \n",
       "1     !!!   OATI Etag 1.7 Minimum Requirements   !!!   \n",
       "2     !!!   OATI Etag 1.7 Minimum Requirements   !!!   \n",
       "4     !!!!!!!!!!!GONE.SCR VIRUS Warning!!!!!!!!!!!11   \n",
       "7  \" Henwood's Rationalizing Midwest Power Market...   \n",
       "\n",
       "                                      processed_body  \\\n",
       "0  [[Time, running, short, Is, company, prepared,...   \n",
       "1  [[Time, running, short, Is, company, prepared,...   \n",
       "2  [[Time, running, short, Is, company, prepared,...   \n",
       "4  [[Immediately, delete, DO, NOT, OPEN, email, F...   \n",
       "7  [[HENWOOD, ANNOUNCES, A, MAJOR, NEW, RELEASE, ...   \n",
       "\n",
       "                                            response  \n",
       "0  [[Time, running, short, Is, company, prepared,...  \n",
       "1  [[Time, running, short, Is, company, prepared,...  \n",
       "2  [[Time, running, short, Is, company, prepared,...  \n",
       "4  [[Immediately, delete, DO, NOT, OPEN, email, F...  \n",
       "7  [[HENWOOD, ANNOUNCES, A, MAJOR, NEW, RELEASE, ...  "
      ],
      "text/html": [
       "<div>\n",
       "<style scoped>\n",
       "    .dataframe tbody tr th:only-of-type {\n",
       "        vertical-align: middle;\n",
       "    }\n",
       "\n",
       "    .dataframe tbody tr th {\n",
       "        vertical-align: top;\n",
       "    }\n",
       "\n",
       "    .dataframe thead th {\n",
       "        text-align: right;\n",
       "    }\n",
       "</style>\n",
       "<table border=\"1\" class=\"dataframe\">\n",
       "  <thead>\n",
       "    <tr style=\"text-align: right;\">\n",
       "      <th></th>\n",
       "      <th>subject</th>\n",
       "      <th>processed_body</th>\n",
       "      <th>response</th>\n",
       "    </tr>\n",
       "  </thead>\n",
       "  <tbody>\n",
       "    <tr>\n",
       "      <th>0</th>\n",
       "      <td>!!!   OATI Etag 1.7 Minimum Requirements   !!!</td>\n",
       "      <td>[[Time, running, short, Is, company, prepared,...</td>\n",
       "      <td>[[Time, running, short, Is, company, prepared,...</td>\n",
       "    </tr>\n",
       "    <tr>\n",
       "      <th>1</th>\n",
       "      <td>!!!   OATI Etag 1.7 Minimum Requirements   !!!</td>\n",
       "      <td>[[Time, running, short, Is, company, prepared,...</td>\n",
       "      <td>[[Time, running, short, Is, company, prepared,...</td>\n",
       "    </tr>\n",
       "    <tr>\n",
       "      <th>2</th>\n",
       "      <td>!!!   OATI Etag 1.7 Minimum Requirements   !!!</td>\n",
       "      <td>[[Time, running, short, Is, company, prepared,...</td>\n",
       "      <td>[[Time, running, short, Is, company, prepared,...</td>\n",
       "    </tr>\n",
       "    <tr>\n",
       "      <th>4</th>\n",
       "      <td>!!!!!!!!!!!GONE.SCR VIRUS Warning!!!!!!!!!!!11</td>\n",
       "      <td>[[Immediately, delete, DO, NOT, OPEN, email, F...</td>\n",
       "      <td>[[Immediately, delete, DO, NOT, OPEN, email, F...</td>\n",
       "    </tr>\n",
       "    <tr>\n",
       "      <th>7</th>\n",
       "      <td>\" Henwood's Rationalizing Midwest Power Market...</td>\n",
       "      <td>[[HENWOOD, ANNOUNCES, A, MAJOR, NEW, RELEASE, ...</td>\n",
       "      <td>[[HENWOOD, ANNOUNCES, A, MAJOR, NEW, RELEASE, ...</td>\n",
       "    </tr>\n",
       "  </tbody>\n",
       "</table>\n",
       "</div>"
      ]
     },
     "execution_count": 33,
     "metadata": {},
     "output_type": "execute_result"
    }
   ],
   "execution_count": 33
  },
  {
   "metadata": {
    "ExecuteTime": {
     "end_time": "2024-12-23T09:21:54.426422Z",
     "start_time": "2024-12-23T09:21:54.421008Z"
    }
   },
   "cell_type": "code",
   "source": "df.shape",
   "id": "6464922a75f354",
   "outputs": [
    {
     "data": {
      "text/plain": [
       "(339356, 10)"
      ]
     },
     "execution_count": 34,
     "metadata": {},
     "output_type": "execute_result"
    }
   ],
   "execution_count": 34
  },
  {
   "metadata": {
    "ExecuteTime": {
     "end_time": "2024-12-23T09:21:54.547196Z",
     "start_time": "2024-12-23T09:21:54.530802Z"
    }
   },
   "cell_type": "code",
   "source": "df",
   "id": "9b0b0de5b892dee9",
   "outputs": [
    {
     "data": {
      "text/plain": [
       "                                     file  \\\n",
       "0           semperger-c/deleted_items/46.   \n",
       "1                king-j/deleted_items/19.   \n",
       "2                     platter-p/inbox/43.   \n",
       "4                  salisbury-h/inbox/196.   \n",
       "7          kaminski-v/all_documents/1055.   \n",
       "...                                   ...   \n",
       "498195    bass-e/discussion_threads/1074.   \n",
       "498207           farmer-d/_sent_mail/224.   \n",
       "498208        farmer-d/all_documents/308.   \n",
       "498209  farmer-d/discussion_threads/2584.   \n",
       "498211    dasovich-j/all_documents/10025.   \n",
       "\n",
       "                                                  headers  \\\n",
       "0       Message-ID: <30978077.1075841544706.JavaMail.e...   \n",
       "1       Message-ID: <15244269.1075840797931.JavaMail.e...   \n",
       "2       Message-ID: <394365.1075841413683.JavaMail.eva...   \n",
       "4       Message-ID: <19201127.1075841505530.JavaMail.e...   \n",
       "7       Message-ID: <8575423.1075856206811.JavaMail.ev...   \n",
       "...                                                   ...   \n",
       "498195  Message-ID: <19275406.1075854652806.JavaMail.e...   \n",
       "498207  Message-ID: <16526018.1075854163321.JavaMail.e...   \n",
       "498208  Message-ID: <17252677.1075853973394.JavaMail.e...   \n",
       "498209  Message-ID: <19949877.1075854105248.JavaMail.e...   \n",
       "498211  Message-ID: <3322588.1075843393134.JavaMail.ev...   \n",
       "\n",
       "                                                     body  \\\n",
       "0       Time is running very short.  Is your company p...   \n",
       "1       Time is running very short.  Is your company p...   \n",
       "2       Time is running very short.  Is your company p...   \n",
       "4       Immediately delete and DO NOT OPEN email \\n \\n...   \n",
       "7       HENWOOD ANNOUNCES A MAJOR NEW RELEASE AND FUNC...   \n",
       "...                                                   ...   \n",
       "498195  \\nhttp://www.kgw.com/kgwnews/nationworld_story...   \n",
       "498207  LA, \\n\\nCan you look into the Transport piece?...   \n",
       "498208  LA, \\n\\nCan you look into the Transport piece?...   \n",
       "498209  LA, \\n\\nCan you look into the Transport piece?...   \n",
       "498211  See attached.\\n\\nColm Lysaght      **      Agi...   \n",
       "\n",
       "                                                  subject  \\\n",
       "0          !!!   OATI Etag 1.7 Minimum Requirements   !!!   \n",
       "1          !!!   OATI Etag 1.7 Minimum Requirements   !!!   \n",
       "2          !!!   OATI Etag 1.7 Minimum Requirements   !!!   \n",
       "4          !!!!!!!!!!!GONE.SCR VIRUS Warning!!!!!!!!!!!11   \n",
       "7       \" Henwood's Rationalizing Midwest Power Market...   \n",
       "...                                                   ...   \n",
       "498195                                              yummy   \n",
       "498207                     zone transport, spot purchases   \n",
       "498208                     zone transport, spot purchases   \n",
       "498209                     zone transport, spot purchases   \n",
       "498211            {Resend} E234 Options/Derivatives notes   \n",
       "\n",
       "                                from  \\\n",
       "0       frank.billington@oatiinc.com   \n",
       "1       frank.billington@oatiinc.com   \n",
       "2       frank.billington@oatiinc.com   \n",
       "4            david.steiner@enron.com   \n",
       "7               cfarrell@hesinet.com   \n",
       "...                              ...   \n",
       "498195       brian.hoskins@enron.com   \n",
       "498207        daren.farmer@enron.com   \n",
       "498208        daren.farmer@enron.com   \n",
       "498209        daren.farmer@enron.com   \n",
       "498211      colm_lysaght@agilent.com   \n",
       "\n",
       "                                                       to  \\\n",
       "0                                cara.semperger@enron.com   \n",
       "1                                     jeff.king@enron.com   \n",
       "2                               phillip.platter@enron.com   \n",
       "4                            center.dl-portland@enron.com   \n",
       "7                                   vkamins@ect.enron.com   \n",
       "...                                                   ...   \n",
       "498195  milson.mundim@enron.com, eric.bass@enron.com, ...   \n",
       "498207                              lauri.allen@enron.com   \n",
       "498208                              lauri.allen@enron.com   \n",
       "498209                              lauri.allen@enron.com   \n",
       "498211  steve_debruyn@notes.teradyne.com, sboyle@haas....   \n",
       "\n",
       "                                               clean_body  \\\n",
       "0       Time is running very short Is your company pre...   \n",
       "1       Time is running very short Is your company pre...   \n",
       "2       Time is running very short Is your company pre...   \n",
       "4       Immediately delete and DO NOT OPEN email From ...   \n",
       "7       HENWOOD ANNOUNCES A MAJOR NEW RELEASE AND FUNC...   \n",
       "...                                                   ...   \n",
       "498195  httpwwwkgwcomkgwnewsnationworld_storyhtmlStory...   \n",
       "498207  LA Can you look into the Transport piece We ne...   \n",
       "498208  LA Can you look into the Transport piece We ne...   \n",
       "498209  LA Can you look into the Transport piece We ne...   \n",
       "498211  See attached Colm Lysaght Agilent Technologies...   \n",
       "\n",
       "                                           processed_body  \\\n",
       "0       [[Time, running, short, Is, company, prepared,...   \n",
       "1       [[Time, running, short, Is, company, prepared,...   \n",
       "2       [[Time, running, short, Is, company, prepared,...   \n",
       "4       [[Immediately, delete, DO, NOT, OPEN, email, F...   \n",
       "7       [[HENWOOD, ANNOUNCES, A, MAJOR, NEW, RELEASE, ...   \n",
       "...                                                   ...   \n",
       "498195  [[httpwwwkgwcomkgwnewsnationworld_storyhtmlSto...   \n",
       "498207  [[LA, Can, look, Transport, piece, We, need, s...   \n",
       "498208  [[LA, Can, look, Transport, piece, We, need, s...   \n",
       "498209  [[LA, Can, look, Transport, piece, We, need, s...   \n",
       "498211  [[See, attached, Colm, Lysaght, Agilent, Techn...   \n",
       "\n",
       "                             date  \\\n",
       "0       2002-02-01 11:25:00-08:00   \n",
       "1       2002-02-01 11:28:51-08:00   \n",
       "2       2002-02-01 11:32:28-08:00   \n",
       "4       2001-12-04 11:49:46-08:00   \n",
       "7       2001-03-19 03:17:00-08:00   \n",
       "...                           ...   \n",
       "498195  2000-12-04 02:17:00-08:00   \n",
       "498207  2000-11-06 03:08:00-08:00   \n",
       "498208  2000-11-06 03:08:00-08:00   \n",
       "498209  2000-11-06 03:08:00-08:00   \n",
       "498211  2001-03-15 06:53:00-08:00   \n",
       "\n",
       "                                                 response  \n",
       "0       [[Time, running, short, Is, company, prepared,...  \n",
       "1       [[Time, running, short, Is, company, prepared,...  \n",
       "2       [[Time, running, short, Is, company, prepared,...  \n",
       "4       [[Immediately, delete, DO, NOT, OPEN, email, F...  \n",
       "7       [[HENWOOD, ANNOUNCES, A, MAJOR, NEW, RELEASE, ...  \n",
       "...                                                   ...  \n",
       "498195  [[httpwwwkgwcomkgwnewsnationworld_storyhtmlSto...  \n",
       "498207  [[LA, Can, look, Transport, piece, We, need, s...  \n",
       "498208  [[LA, Can, look, Transport, piece, We, need, s...  \n",
       "498209  [[LA, Can, look, Transport, piece, We, need, s...  \n",
       "498211  [[See, attached, Colm, Lysaght, Agilent, Techn...  \n",
       "\n",
       "[339356 rows x 10 columns]"
      ],
      "text/html": [
       "<div>\n",
       "<style scoped>\n",
       "    .dataframe tbody tr th:only-of-type {\n",
       "        vertical-align: middle;\n",
       "    }\n",
       "\n",
       "    .dataframe tbody tr th {\n",
       "        vertical-align: top;\n",
       "    }\n",
       "\n",
       "    .dataframe thead th {\n",
       "        text-align: right;\n",
       "    }\n",
       "</style>\n",
       "<table border=\"1\" class=\"dataframe\">\n",
       "  <thead>\n",
       "    <tr style=\"text-align: right;\">\n",
       "      <th></th>\n",
       "      <th>file</th>\n",
       "      <th>headers</th>\n",
       "      <th>body</th>\n",
       "      <th>subject</th>\n",
       "      <th>from</th>\n",
       "      <th>to</th>\n",
       "      <th>clean_body</th>\n",
       "      <th>processed_body</th>\n",
       "      <th>date</th>\n",
       "      <th>response</th>\n",
       "    </tr>\n",
       "  </thead>\n",
       "  <tbody>\n",
       "    <tr>\n",
       "      <th>0</th>\n",
       "      <td>semperger-c/deleted_items/46.</td>\n",
       "      <td>Message-ID: &lt;30978077.1075841544706.JavaMail.e...</td>\n",
       "      <td>Time is running very short.  Is your company p...</td>\n",
       "      <td>!!!   OATI Etag 1.7 Minimum Requirements   !!!</td>\n",
       "      <td>frank.billington@oatiinc.com</td>\n",
       "      <td>cara.semperger@enron.com</td>\n",
       "      <td>Time is running very short Is your company pre...</td>\n",
       "      <td>[[Time, running, short, Is, company, prepared,...</td>\n",
       "      <td>2002-02-01 11:25:00-08:00</td>\n",
       "      <td>[[Time, running, short, Is, company, prepared,...</td>\n",
       "    </tr>\n",
       "    <tr>\n",
       "      <th>1</th>\n",
       "      <td>king-j/deleted_items/19.</td>\n",
       "      <td>Message-ID: &lt;15244269.1075840797931.JavaMail.e...</td>\n",
       "      <td>Time is running very short.  Is your company p...</td>\n",
       "      <td>!!!   OATI Etag 1.7 Minimum Requirements   !!!</td>\n",
       "      <td>frank.billington@oatiinc.com</td>\n",
       "      <td>jeff.king@enron.com</td>\n",
       "      <td>Time is running very short Is your company pre...</td>\n",
       "      <td>[[Time, running, short, Is, company, prepared,...</td>\n",
       "      <td>2002-02-01 11:28:51-08:00</td>\n",
       "      <td>[[Time, running, short, Is, company, prepared,...</td>\n",
       "    </tr>\n",
       "    <tr>\n",
       "      <th>2</th>\n",
       "      <td>platter-p/inbox/43.</td>\n",
       "      <td>Message-ID: &lt;394365.1075841413683.JavaMail.eva...</td>\n",
       "      <td>Time is running very short.  Is your company p...</td>\n",
       "      <td>!!!   OATI Etag 1.7 Minimum Requirements   !!!</td>\n",
       "      <td>frank.billington@oatiinc.com</td>\n",
       "      <td>phillip.platter@enron.com</td>\n",
       "      <td>Time is running very short Is your company pre...</td>\n",
       "      <td>[[Time, running, short, Is, company, prepared,...</td>\n",
       "      <td>2002-02-01 11:32:28-08:00</td>\n",
       "      <td>[[Time, running, short, Is, company, prepared,...</td>\n",
       "    </tr>\n",
       "    <tr>\n",
       "      <th>4</th>\n",
       "      <td>salisbury-h/inbox/196.</td>\n",
       "      <td>Message-ID: &lt;19201127.1075841505530.JavaMail.e...</td>\n",
       "      <td>Immediately delete and DO NOT OPEN email \\n \\n...</td>\n",
       "      <td>!!!!!!!!!!!GONE.SCR VIRUS Warning!!!!!!!!!!!11</td>\n",
       "      <td>david.steiner@enron.com</td>\n",
       "      <td>center.dl-portland@enron.com</td>\n",
       "      <td>Immediately delete and DO NOT OPEN email From ...</td>\n",
       "      <td>[[Immediately, delete, DO, NOT, OPEN, email, F...</td>\n",
       "      <td>2001-12-04 11:49:46-08:00</td>\n",
       "      <td>[[Immediately, delete, DO, NOT, OPEN, email, F...</td>\n",
       "    </tr>\n",
       "    <tr>\n",
       "      <th>7</th>\n",
       "      <td>kaminski-v/all_documents/1055.</td>\n",
       "      <td>Message-ID: &lt;8575423.1075856206811.JavaMail.ev...</td>\n",
       "      <td>HENWOOD ANNOUNCES A MAJOR NEW RELEASE AND FUNC...</td>\n",
       "      <td>\" Henwood's Rationalizing Midwest Power Market...</td>\n",
       "      <td>cfarrell@hesinet.com</td>\n",
       "      <td>vkamins@ect.enron.com</td>\n",
       "      <td>HENWOOD ANNOUNCES A MAJOR NEW RELEASE AND FUNC...</td>\n",
       "      <td>[[HENWOOD, ANNOUNCES, A, MAJOR, NEW, RELEASE, ...</td>\n",
       "      <td>2001-03-19 03:17:00-08:00</td>\n",
       "      <td>[[HENWOOD, ANNOUNCES, A, MAJOR, NEW, RELEASE, ...</td>\n",
       "    </tr>\n",
       "    <tr>\n",
       "      <th>...</th>\n",
       "      <td>...</td>\n",
       "      <td>...</td>\n",
       "      <td>...</td>\n",
       "      <td>...</td>\n",
       "      <td>...</td>\n",
       "      <td>...</td>\n",
       "      <td>...</td>\n",
       "      <td>...</td>\n",
       "      <td>...</td>\n",
       "      <td>...</td>\n",
       "    </tr>\n",
       "    <tr>\n",
       "      <th>498195</th>\n",
       "      <td>bass-e/discussion_threads/1074.</td>\n",
       "      <td>Message-ID: &lt;19275406.1075854652806.JavaMail.e...</td>\n",
       "      <td>\\nhttp://www.kgw.com/kgwnews/nationworld_story...</td>\n",
       "      <td>yummy</td>\n",
       "      <td>brian.hoskins@enron.com</td>\n",
       "      <td>milson.mundim@enron.com, eric.bass@enron.com, ...</td>\n",
       "      <td>httpwwwkgwcomkgwnewsnationworld_storyhtmlStory...</td>\n",
       "      <td>[[httpwwwkgwcomkgwnewsnationworld_storyhtmlSto...</td>\n",
       "      <td>2000-12-04 02:17:00-08:00</td>\n",
       "      <td>[[httpwwwkgwcomkgwnewsnationworld_storyhtmlSto...</td>\n",
       "    </tr>\n",
       "    <tr>\n",
       "      <th>498207</th>\n",
       "      <td>farmer-d/_sent_mail/224.</td>\n",
       "      <td>Message-ID: &lt;16526018.1075854163321.JavaMail.e...</td>\n",
       "      <td>LA, \\n\\nCan you look into the Transport piece?...</td>\n",
       "      <td>zone transport, spot purchases</td>\n",
       "      <td>daren.farmer@enron.com</td>\n",
       "      <td>lauri.allen@enron.com</td>\n",
       "      <td>LA Can you look into the Transport piece We ne...</td>\n",
       "      <td>[[LA, Can, look, Transport, piece, We, need, s...</td>\n",
       "      <td>2000-11-06 03:08:00-08:00</td>\n",
       "      <td>[[LA, Can, look, Transport, piece, We, need, s...</td>\n",
       "    </tr>\n",
       "    <tr>\n",
       "      <th>498208</th>\n",
       "      <td>farmer-d/all_documents/308.</td>\n",
       "      <td>Message-ID: &lt;17252677.1075853973394.JavaMail.e...</td>\n",
       "      <td>LA, \\n\\nCan you look into the Transport piece?...</td>\n",
       "      <td>zone transport, spot purchases</td>\n",
       "      <td>daren.farmer@enron.com</td>\n",
       "      <td>lauri.allen@enron.com</td>\n",
       "      <td>LA Can you look into the Transport piece We ne...</td>\n",
       "      <td>[[LA, Can, look, Transport, piece, We, need, s...</td>\n",
       "      <td>2000-11-06 03:08:00-08:00</td>\n",
       "      <td>[[LA, Can, look, Transport, piece, We, need, s...</td>\n",
       "    </tr>\n",
       "    <tr>\n",
       "      <th>498209</th>\n",
       "      <td>farmer-d/discussion_threads/2584.</td>\n",
       "      <td>Message-ID: &lt;19949877.1075854105248.JavaMail.e...</td>\n",
       "      <td>LA, \\n\\nCan you look into the Transport piece?...</td>\n",
       "      <td>zone transport, spot purchases</td>\n",
       "      <td>daren.farmer@enron.com</td>\n",
       "      <td>lauri.allen@enron.com</td>\n",
       "      <td>LA Can you look into the Transport piece We ne...</td>\n",
       "      <td>[[LA, Can, look, Transport, piece, We, need, s...</td>\n",
       "      <td>2000-11-06 03:08:00-08:00</td>\n",
       "      <td>[[LA, Can, look, Transport, piece, We, need, s...</td>\n",
       "    </tr>\n",
       "    <tr>\n",
       "      <th>498211</th>\n",
       "      <td>dasovich-j/all_documents/10025.</td>\n",
       "      <td>Message-ID: &lt;3322588.1075843393134.JavaMail.ev...</td>\n",
       "      <td>See attached.\\n\\nColm Lysaght      **      Agi...</td>\n",
       "      <td>{Resend} E234 Options/Derivatives notes</td>\n",
       "      <td>colm_lysaght@agilent.com</td>\n",
       "      <td>steve_debruyn@notes.teradyne.com, sboyle@haas....</td>\n",
       "      <td>See attached Colm Lysaght Agilent Technologies...</td>\n",
       "      <td>[[See, attached, Colm, Lysaght, Agilent, Techn...</td>\n",
       "      <td>2001-03-15 06:53:00-08:00</td>\n",
       "      <td>[[See, attached, Colm, Lysaght, Agilent, Techn...</td>\n",
       "    </tr>\n",
       "  </tbody>\n",
       "</table>\n",
       "<p>339356 rows × 10 columns</p>\n",
       "</div>"
      ]
     },
     "execution_count": 35,
     "metadata": {},
     "output_type": "execute_result"
    }
   ],
   "execution_count": 35
  },
  {
   "metadata": {
    "ExecuteTime": {
     "end_time": "2024-12-23T10:16:27.522317Z",
     "start_time": "2024-12-23T10:15:20.925688Z"
    }
   },
   "cell_type": "code",
   "source": [
    "# Saving the preprocessed data\n",
    "df.to_csv(\"/Users/abhishekwaghchaure/Desktop/Datasets/email/preprocessed_emails.csv\", index=False)\n",
    "print(\"\\nPreprocessed dataset saved as 'preprocessed_emails.csv'.\")"
   ],
   "id": "d22b6b471bdf775c",
   "outputs": [
    {
     "name": "stdout",
     "output_type": "stream",
     "text": [
      "\n",
      "Preprocessed dataset saved as 'preprocessed_emails.csv'.\n"
     ]
    }
   ],
   "execution_count": 43
  }
 ],
 "metadata": {
  "kernelspec": {
   "display_name": "Python 3",
   "language": "python",
   "name": "python3"
  },
  "language_info": {
   "codemirror_mode": {
    "name": "ipython",
    "version": 2
   },
   "file_extension": ".py",
   "mimetype": "text/x-python",
   "name": "python",
   "nbconvert_exporter": "python",
   "pygments_lexer": "ipython2",
   "version": "2.7.6"
  }
 },
 "nbformat": 4,
 "nbformat_minor": 5
}
